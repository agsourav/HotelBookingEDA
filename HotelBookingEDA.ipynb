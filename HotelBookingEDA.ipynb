{
  "nbformat": 4,
  "nbformat_minor": 0,
  "metadata": {
    "colab": {
      "name": "HotelBookingEDA.ipynb",
      "provenance": []
    },
    "kernelspec": {
      "name": "python3",
      "display_name": "Python 3"
    },
    "language_info": {
      "name": "python"
    }
  },
  "cells": [
    {
      "cell_type": "markdown",
      "metadata": {
        "id": "D7ESNfHvToCa"
      },
      "source": [
        "**Problem statement:** Analyse the Hotel Booking Demand dataset to draw key insights"
      ]
    },
    {
      "cell_type": "markdown",
      "metadata": {
        "id": "05JFrQZSUEpC"
      },
      "source": [
        "What is the question that we are trying to answer?\n",
        "1. What are the identifiers of cancelled bookings?"
      ]
    },
    {
      "cell_type": "markdown",
      "metadata": {
        "id": "Z6ZKl4ysWd7y"
      },
      "source": [
        "#### Downloading data"
      ]
    },
    {
      "cell_type": "code",
      "metadata": {
        "id": "vH3WUKlVoDmx",
        "colab": {
          "base_uri": "https://localhost:8080/"
        },
        "outputId": "76b206f3-f756-4274-f428-5de8b7a56d00"
      },
      "source": [
        "!pip3 install kaggle"
      ],
      "execution_count": 1,
      "outputs": [
        {
          "output_type": "stream",
          "name": "stdout",
          "text": [
            "Requirement already satisfied: kaggle in /usr/local/lib/python3.7/dist-packages (1.5.12)\n",
            "Requirement already satisfied: six>=1.10 in /usr/local/lib/python3.7/dist-packages (from kaggle) (1.15.0)\n",
            "Requirement already satisfied: requests in /usr/local/lib/python3.7/dist-packages (from kaggle) (2.23.0)\n",
            "Requirement already satisfied: python-dateutil in /usr/local/lib/python3.7/dist-packages (from kaggle) (2.8.2)\n",
            "Requirement already satisfied: python-slugify in /usr/local/lib/python3.7/dist-packages (from kaggle) (5.0.2)\n",
            "Requirement already satisfied: tqdm in /usr/local/lib/python3.7/dist-packages (from kaggle) (4.62.3)\n",
            "Requirement already satisfied: urllib3 in /usr/local/lib/python3.7/dist-packages (from kaggle) (1.24.3)\n",
            "Requirement already satisfied: certifi in /usr/local/lib/python3.7/dist-packages (from kaggle) (2021.10.8)\n",
            "Requirement already satisfied: text-unidecode>=1.3 in /usr/local/lib/python3.7/dist-packages (from python-slugify->kaggle) (1.3)\n",
            "Requirement already satisfied: idna<3,>=2.5 in /usr/local/lib/python3.7/dist-packages (from requests->kaggle) (2.10)\n",
            "Requirement already satisfied: chardet<4,>=3.0.2 in /usr/local/lib/python3.7/dist-packages (from requests->kaggle) (3.0.4)\n"
          ]
        }
      ]
    },
    {
      "cell_type": "code",
      "metadata": {
        "id": "LpuqnrZKWAoZ"
      },
      "source": [
        "#reference: https://www.kaggle.com/general/74235\n",
        "!mkdir ~/.kaggle/\n",
        "!cp kaggle.json ~/.kaggle/\n",
        "!chmod 600 ~/.kaggle/kaggle.json"
      ],
      "execution_count": 2,
      "outputs": []
    },
    {
      "cell_type": "code",
      "metadata": {
        "colab": {
          "base_uri": "https://localhost:8080/"
        },
        "id": "nEe6AZnuURUJ",
        "outputId": "b1430574-5f8b-4912-89ec-3c2741420462"
      },
      "source": [
        "!kaggle datasets download -d jessemostipak/hotel-booking-demand"
      ],
      "execution_count": 3,
      "outputs": [
        {
          "output_type": "stream",
          "name": "stdout",
          "text": [
            "Downloading hotel-booking-demand.zip to /content\n",
            "\r  0% 0.00/1.25M [00:00<?, ?B/s]\n",
            "\r100% 1.25M/1.25M [00:00<00:00, 42.0MB/s]\n"
          ]
        }
      ]
    },
    {
      "cell_type": "code",
      "metadata": {
        "colab": {
          "base_uri": "https://localhost:8080/"
        },
        "id": "k3ffoj_DWt2r",
        "outputId": "4f1ed7a0-8259-4a21-d273-3a2274fcd985"
      },
      "source": [
        "!unzip hotel-booking-demand.zip"
      ],
      "execution_count": 4,
      "outputs": [
        {
          "output_type": "stream",
          "name": "stdout",
          "text": [
            "Archive:  hotel-booking-demand.zip\n",
            "  inflating: hotel_bookings.csv      \n"
          ]
        }
      ]
    },
    {
      "cell_type": "markdown",
      "metadata": {
        "id": "BQOJTLgTWjuw"
      },
      "source": [
        "### Data statistics"
      ]
    },
    {
      "cell_type": "code",
      "metadata": {
        "id": "yxqhXjtwW8O2"
      },
      "source": [
        "#importing libraries\n",
        "import pandas as pd\n",
        "import numpy as np"
      ],
      "execution_count": 5,
      "outputs": []
    },
    {
      "cell_type": "code",
      "metadata": {
        "id": "XARwmMWkpHKJ"
      },
      "source": [
        "import matplotlib.pyplot as plt\n",
        "import seaborn as sns"
      ],
      "execution_count": 6,
      "outputs": []
    },
    {
      "cell_type": "code",
      "metadata": {
        "colab": {
          "base_uri": "https://localhost:8080/"
        },
        "id": "8vBevMs4WpIa",
        "outputId": "7cb0d6b4-1b6f-4d4f-8bee-6e4224240d06"
      },
      "source": [
        "data = pd.read_csv('hotel_bookings.csv')\n",
        "data.shape"
      ],
      "execution_count": 7,
      "outputs": [
        {
          "output_type": "execute_result",
          "data": {
            "text/plain": [
              "(119390, 32)"
            ]
          },
          "metadata": {},
          "execution_count": 7
        }
      ]
    },
    {
      "cell_type": "code",
      "metadata": {
        "colab": {
          "base_uri": "https://localhost:8080/"
        },
        "id": "3PFEnoNJW6uG",
        "outputId": "284e92fa-780e-4adf-fd25-c20f81f2f2bc"
      },
      "source": [
        "data.columns"
      ],
      "execution_count": 8,
      "outputs": [
        {
          "output_type": "execute_result",
          "data": {
            "text/plain": [
              "Index(['hotel', 'is_canceled', 'lead_time', 'arrival_date_year',\n",
              "       'arrival_date_month', 'arrival_date_week_number',\n",
              "       'arrival_date_day_of_month', 'stays_in_weekend_nights',\n",
              "       'stays_in_week_nights', 'adults', 'children', 'babies', 'meal',\n",
              "       'country', 'market_segment', 'distribution_channel',\n",
              "       'is_repeated_guest', 'previous_cancellations',\n",
              "       'previous_bookings_not_canceled', 'reserved_room_type',\n",
              "       'assigned_room_type', 'booking_changes', 'deposit_type', 'agent',\n",
              "       'company', 'days_in_waiting_list', 'customer_type', 'adr',\n",
              "       'required_car_parking_spaces', 'total_of_special_requests',\n",
              "       'reservation_status', 'reservation_status_date'],\n",
              "      dtype='object')"
            ]
          },
          "metadata": {},
          "execution_count": 8
        }
      ]
    },
    {
      "cell_type": "code",
      "metadata": {
        "colab": {
          "base_uri": "https://localhost:8080/"
        },
        "id": "4rgsrqpxXCf8",
        "outputId": "8e6af9d9-edff-4630-a565-de40885d888e"
      },
      "source": [
        "data.info()"
      ],
      "execution_count": null,
      "outputs": [
        {
          "output_type": "stream",
          "name": "stdout",
          "text": [
            "<class 'pandas.core.frame.DataFrame'>\n",
            "RangeIndex: 119390 entries, 0 to 119389\n",
            "Data columns (total 32 columns):\n",
            " #   Column                          Non-Null Count   Dtype  \n",
            "---  ------                          --------------   -----  \n",
            " 0   hotel                           119390 non-null  object \n",
            " 1   is_canceled                     119390 non-null  int64  \n",
            " 2   lead_time                       119390 non-null  int64  \n",
            " 3   arrival_date_year               119390 non-null  int64  \n",
            " 4   arrival_date_month              119390 non-null  object \n",
            " 5   arrival_date_week_number        119390 non-null  int64  \n",
            " 6   arrival_date_day_of_month       119390 non-null  int64  \n",
            " 7   stays_in_weekend_nights         119390 non-null  int64  \n",
            " 8   stays_in_week_nights            119390 non-null  int64  \n",
            " 9   adults                          119390 non-null  int64  \n",
            " 10  children                        119386 non-null  float64\n",
            " 11  babies                          119390 non-null  int64  \n",
            " 12  meal                            119390 non-null  object \n",
            " 13  country                         118902 non-null  object \n",
            " 14  market_segment                  119390 non-null  object \n",
            " 15  distribution_channel            119390 non-null  object \n",
            " 16  is_repeated_guest               119390 non-null  int64  \n",
            " 17  previous_cancellations          119390 non-null  int64  \n",
            " 18  previous_bookings_not_canceled  119390 non-null  int64  \n",
            " 19  reserved_room_type              119390 non-null  object \n",
            " 20  assigned_room_type              119390 non-null  object \n",
            " 21  booking_changes                 119390 non-null  int64  \n",
            " 22  deposit_type                    119390 non-null  object \n",
            " 23  agent                           103050 non-null  float64\n",
            " 24  company                         6797 non-null    float64\n",
            " 25  days_in_waiting_list            119390 non-null  int64  \n",
            " 26  customer_type                   119390 non-null  object \n",
            " 27  adr                             119390 non-null  float64\n",
            " 28  required_car_parking_spaces     119390 non-null  int64  \n",
            " 29  total_of_special_requests       119390 non-null  int64  \n",
            " 30  reservation_status              119390 non-null  object \n",
            " 31  reservation_status_date         119390 non-null  object \n",
            "dtypes: float64(4), int64(16), object(12)\n",
            "memory usage: 29.1+ MB\n"
          ]
        }
      ]
    },
    {
      "cell_type": "code",
      "metadata": {
        "id": "ztv0tmcjYfOu"
      },
      "source": [
        "#reference: https://reader.elsevier.com/reader/sd/pii/S2352340918315191?token=B44989B6DF2DFCA8ADC98CFA9BD95F26CB914454125E16A29469762513509E62E0B90B577E9C861D39533DD80D7A062E&originRegion=eu-west-1&originCreation=20211109110047\n",
        "date_fields = ['reservation_status_date', 'arrival_date_year','arrival_date_month']\n",
        "categorical_fields = ['hotel','is_canceled','country','market_segment','distribution_channel','is_repeated_guest','reserved_room_type','assigned_room_type',\n",
        "                      'deposit_type','agent','company','customer_type','reservation_status','meal']\n",
        "numeric_fields = set(data.columns) - set(date_fields) - set(categorical_fields)"
      ],
      "execution_count": 9,
      "outputs": []
    },
    {
      "cell_type": "code",
      "metadata": {
        "colab": {
          "base_uri": "https://localhost:8080/"
        },
        "id": "fkyIGARlZ9oe",
        "outputId": "8d8fc584-f3cc-4ac2-8ccc-319edf97b614"
      },
      "source": [
        "print(len(date_fields), len(categorical_fields), len(numeric_fields))"
      ],
      "execution_count": 10,
      "outputs": [
        {
          "output_type": "stream",
          "name": "stdout",
          "text": [
            "3 14 15\n"
          ]
        }
      ]
    },
    {
      "cell_type": "code",
      "metadata": {
        "colab": {
          "base_uri": "https://localhost:8080/"
        },
        "id": "AaYwl-J4XHXX",
        "outputId": "399e533f-7ab9-4859-d67f-fe75fa9dd063"
      },
      "source": [
        "#categorical features\n",
        "data.loc[:,categorical_fields].nunique()"
      ],
      "execution_count": null,
      "outputs": [
        {
          "output_type": "execute_result",
          "data": {
            "text/plain": [
              "hotel                     2\n",
              "is_canceled               2\n",
              "country                 177\n",
              "market_segment            8\n",
              "distribution_channel      5\n",
              "is_repeated_guest         2\n",
              "reserved_room_type       10\n",
              "assigned_room_type       12\n",
              "deposit_type              3\n",
              "agent                   333\n",
              "company                 352\n",
              "customer_type             4\n",
              "reservation_status        3\n",
              "meal                      5\n",
              "dtype: int64"
            ]
          },
          "metadata": {},
          "execution_count": 13
        }
      ]
    },
    {
      "cell_type": "code",
      "metadata": {
        "colab": {
          "base_uri": "https://localhost:8080/",
          "height": 320
        },
        "id": "itzrA-pYXhY4",
        "outputId": "6fdaa5c7-2586-4d73-9845-dfe0f8327921"
      },
      "source": [
        "data.loc[:,numeric_fields].describe()"
      ],
      "execution_count": null,
      "outputs": [
        {
          "output_type": "execute_result",
          "data": {
            "text/html": [
              "<div>\n",
              "<style scoped>\n",
              "    .dataframe tbody tr th:only-of-type {\n",
              "        vertical-align: middle;\n",
              "    }\n",
              "\n",
              "    .dataframe tbody tr th {\n",
              "        vertical-align: top;\n",
              "    }\n",
              "\n",
              "    .dataframe thead th {\n",
              "        text-align: right;\n",
              "    }\n",
              "</style>\n",
              "<table border=\"1\" class=\"dataframe\">\n",
              "  <thead>\n",
              "    <tr style=\"text-align: right;\">\n",
              "      <th></th>\n",
              "      <th>previous_bookings_not_canceled</th>\n",
              "      <th>arrival_date_day_of_month</th>\n",
              "      <th>total_of_special_requests</th>\n",
              "      <th>stays_in_weekend_nights</th>\n",
              "      <th>stays_in_week_nights</th>\n",
              "      <th>children</th>\n",
              "      <th>days_in_waiting_list</th>\n",
              "      <th>adults</th>\n",
              "      <th>required_car_parking_spaces</th>\n",
              "      <th>previous_cancellations</th>\n",
              "      <th>booking_changes</th>\n",
              "      <th>adr</th>\n",
              "      <th>arrival_date_week_number</th>\n",
              "      <th>lead_time</th>\n",
              "      <th>babies</th>\n",
              "    </tr>\n",
              "  </thead>\n",
              "  <tbody>\n",
              "    <tr>\n",
              "      <th>count</th>\n",
              "      <td>119390.000000</td>\n",
              "      <td>119390.000000</td>\n",
              "      <td>119390.000000</td>\n",
              "      <td>119390.000000</td>\n",
              "      <td>119390.000000</td>\n",
              "      <td>119386.000000</td>\n",
              "      <td>119390.000000</td>\n",
              "      <td>119390.000000</td>\n",
              "      <td>119390.000000</td>\n",
              "      <td>119390.000000</td>\n",
              "      <td>119390.000000</td>\n",
              "      <td>119390.000000</td>\n",
              "      <td>119390.000000</td>\n",
              "      <td>119390.000000</td>\n",
              "      <td>119390.000000</td>\n",
              "    </tr>\n",
              "    <tr>\n",
              "      <th>mean</th>\n",
              "      <td>0.137097</td>\n",
              "      <td>15.798241</td>\n",
              "      <td>0.571363</td>\n",
              "      <td>0.927599</td>\n",
              "      <td>2.500302</td>\n",
              "      <td>0.103890</td>\n",
              "      <td>2.321149</td>\n",
              "      <td>1.856403</td>\n",
              "      <td>0.062518</td>\n",
              "      <td>0.087118</td>\n",
              "      <td>0.221124</td>\n",
              "      <td>101.831122</td>\n",
              "      <td>27.165173</td>\n",
              "      <td>104.011416</td>\n",
              "      <td>0.007949</td>\n",
              "    </tr>\n",
              "    <tr>\n",
              "      <th>std</th>\n",
              "      <td>1.497437</td>\n",
              "      <td>8.780829</td>\n",
              "      <td>0.792798</td>\n",
              "      <td>0.998613</td>\n",
              "      <td>1.908286</td>\n",
              "      <td>0.398561</td>\n",
              "      <td>17.594721</td>\n",
              "      <td>0.579261</td>\n",
              "      <td>0.245291</td>\n",
              "      <td>0.844336</td>\n",
              "      <td>0.652306</td>\n",
              "      <td>50.535790</td>\n",
              "      <td>13.605138</td>\n",
              "      <td>106.863097</td>\n",
              "      <td>0.097436</td>\n",
              "    </tr>\n",
              "    <tr>\n",
              "      <th>min</th>\n",
              "      <td>0.000000</td>\n",
              "      <td>1.000000</td>\n",
              "      <td>0.000000</td>\n",
              "      <td>0.000000</td>\n",
              "      <td>0.000000</td>\n",
              "      <td>0.000000</td>\n",
              "      <td>0.000000</td>\n",
              "      <td>0.000000</td>\n",
              "      <td>0.000000</td>\n",
              "      <td>0.000000</td>\n",
              "      <td>0.000000</td>\n",
              "      <td>-6.380000</td>\n",
              "      <td>1.000000</td>\n",
              "      <td>0.000000</td>\n",
              "      <td>0.000000</td>\n",
              "    </tr>\n",
              "    <tr>\n",
              "      <th>25%</th>\n",
              "      <td>0.000000</td>\n",
              "      <td>8.000000</td>\n",
              "      <td>0.000000</td>\n",
              "      <td>0.000000</td>\n",
              "      <td>1.000000</td>\n",
              "      <td>0.000000</td>\n",
              "      <td>0.000000</td>\n",
              "      <td>2.000000</td>\n",
              "      <td>0.000000</td>\n",
              "      <td>0.000000</td>\n",
              "      <td>0.000000</td>\n",
              "      <td>69.290000</td>\n",
              "      <td>16.000000</td>\n",
              "      <td>18.000000</td>\n",
              "      <td>0.000000</td>\n",
              "    </tr>\n",
              "    <tr>\n",
              "      <th>50%</th>\n",
              "      <td>0.000000</td>\n",
              "      <td>16.000000</td>\n",
              "      <td>0.000000</td>\n",
              "      <td>1.000000</td>\n",
              "      <td>2.000000</td>\n",
              "      <td>0.000000</td>\n",
              "      <td>0.000000</td>\n",
              "      <td>2.000000</td>\n",
              "      <td>0.000000</td>\n",
              "      <td>0.000000</td>\n",
              "      <td>0.000000</td>\n",
              "      <td>94.575000</td>\n",
              "      <td>28.000000</td>\n",
              "      <td>69.000000</td>\n",
              "      <td>0.000000</td>\n",
              "    </tr>\n",
              "    <tr>\n",
              "      <th>75%</th>\n",
              "      <td>0.000000</td>\n",
              "      <td>23.000000</td>\n",
              "      <td>1.000000</td>\n",
              "      <td>2.000000</td>\n",
              "      <td>3.000000</td>\n",
              "      <td>0.000000</td>\n",
              "      <td>0.000000</td>\n",
              "      <td>2.000000</td>\n",
              "      <td>0.000000</td>\n",
              "      <td>0.000000</td>\n",
              "      <td>0.000000</td>\n",
              "      <td>126.000000</td>\n",
              "      <td>38.000000</td>\n",
              "      <td>160.000000</td>\n",
              "      <td>0.000000</td>\n",
              "    </tr>\n",
              "    <tr>\n",
              "      <th>max</th>\n",
              "      <td>72.000000</td>\n",
              "      <td>31.000000</td>\n",
              "      <td>5.000000</td>\n",
              "      <td>19.000000</td>\n",
              "      <td>50.000000</td>\n",
              "      <td>10.000000</td>\n",
              "      <td>391.000000</td>\n",
              "      <td>55.000000</td>\n",
              "      <td>8.000000</td>\n",
              "      <td>26.000000</td>\n",
              "      <td>21.000000</td>\n",
              "      <td>5400.000000</td>\n",
              "      <td>53.000000</td>\n",
              "      <td>737.000000</td>\n",
              "      <td>10.000000</td>\n",
              "    </tr>\n",
              "  </tbody>\n",
              "</table>\n",
              "</div>"
            ],
            "text/plain": [
              "       previous_bookings_not_canceled  ...         babies\n",
              "count                   119390.000000  ...  119390.000000\n",
              "mean                         0.137097  ...       0.007949\n",
              "std                          1.497437  ...       0.097436\n",
              "min                          0.000000  ...       0.000000\n",
              "25%                          0.000000  ...       0.000000\n",
              "50%                          0.000000  ...       0.000000\n",
              "75%                          0.000000  ...       0.000000\n",
              "max                         72.000000  ...      10.000000\n",
              "\n",
              "[8 rows x 15 columns]"
            ]
          },
          "metadata": {},
          "execution_count": 14
        }
      ]
    },
    {
      "cell_type": "markdown",
      "metadata": {
        "id": "2nKliVerdg96"
      },
      "source": [
        "#### Checking date anamolies"
      ]
    },
    {
      "cell_type": "code",
      "metadata": {
        "colab": {
          "base_uri": "https://localhost:8080/"
        },
        "id": "abS5RH8jYBHs",
        "outputId": "d826d352-4ae2-4dde-8db4-a44890c103ed"
      },
      "source": [
        "#date entries must contain arrivals that lie between 1st July 2015 and 31st Aug 2017\n",
        "#referennce: https://reader.elsevier.com/reader/sd/pii/S2352340918315191?token=B44989B6DF2DFCA8ADC98CFA9BD95F26CB914454125E16A29469762513509E62E0B90B577E9C861D39533DD80D7A062E&originRegion=eu-west-1&originCreation=20211109110047\n",
        "d = data[date_fields]\n",
        "d.loc[(d['arrival_date_year']<2015) | (d['arrival_date_year']>2017)].any()"
      ],
      "execution_count": null,
      "outputs": [
        {
          "output_type": "execute_result",
          "data": {
            "text/plain": [
              "reservation_status_date    False\n",
              "arrival_date_year          False\n",
              "arrival_date_month         False\n",
              "dtype: bool"
            ]
          },
          "metadata": {},
          "execution_count": 51
        }
      ]
    },
    {
      "cell_type": "code",
      "metadata": {
        "id": "lqpL8cWccRFS"
      },
      "source": [
        "daterange = pd.date_range(start=pd.to_datetime('1 Jul 2015'), end=pd.to_datetime('31 Aug 2017'))"
      ],
      "execution_count": null,
      "outputs": []
    },
    {
      "cell_type": "code",
      "metadata": {
        "colab": {
          "base_uri": "https://localhost:8080/"
        },
        "id": "0ZPuWckWeqEp",
        "outputId": "c0aaafc3-c6ce-4e0a-827d-c3f87b1db25b"
      },
      "source": [
        "d['arrival_period'] = d['arrival_date_month']+d['arrival_date_year'].astype(str)"
      ],
      "execution_count": null,
      "outputs": [
        {
          "output_type": "stream",
          "name": "stderr",
          "text": [
            "/usr/local/lib/python3.7/dist-packages/ipykernel_launcher.py:1: SettingWithCopyWarning: \n",
            "A value is trying to be set on a copy of a slice from a DataFrame.\n",
            "Try using .loc[row_indexer,col_indexer] = value instead\n",
            "\n",
            "See the caveats in the documentation: https://pandas.pydata.org/pandas-docs/stable/user_guide/indexing.html#returning-a-view-versus-a-copy\n",
            "  \"\"\"Entry point for launching an IPython kernel.\n"
          ]
        }
      ]
    },
    {
      "cell_type": "code",
      "metadata": {
        "colab": {
          "base_uri": "https://localhost:8080/",
          "height": 49
        },
        "id": "kiktkglFgqX0",
        "outputId": "f3a97080-d64b-4dc5-e21a-8d264288680a"
      },
      "source": [
        "d.loc[~pd.to_datetime(d['arrival_period']).isin(daterange)]"
      ],
      "execution_count": null,
      "outputs": [
        {
          "output_type": "execute_result",
          "data": {
            "text/html": [
              "<div>\n",
              "<style scoped>\n",
              "    .dataframe tbody tr th:only-of-type {\n",
              "        vertical-align: middle;\n",
              "    }\n",
              "\n",
              "    .dataframe tbody tr th {\n",
              "        vertical-align: top;\n",
              "    }\n",
              "\n",
              "    .dataframe thead th {\n",
              "        text-align: right;\n",
              "    }\n",
              "</style>\n",
              "<table border=\"1\" class=\"dataframe\">\n",
              "  <thead>\n",
              "    <tr style=\"text-align: right;\">\n",
              "      <th></th>\n",
              "      <th>reservation_status_date</th>\n",
              "      <th>arrival_date_year</th>\n",
              "      <th>arrival_date_month</th>\n",
              "      <th>arrival_period</th>\n",
              "    </tr>\n",
              "  </thead>\n",
              "  <tbody>\n",
              "  </tbody>\n",
              "</table>\n",
              "</div>"
            ],
            "text/plain": [
              "Empty DataFrame\n",
              "Columns: [reservation_status_date, arrival_date_year, arrival_date_month, arrival_period]\n",
              "Index: []"
            ]
          },
          "metadata": {},
          "execution_count": 55
        }
      ]
    },
    {
      "cell_type": "code",
      "metadata": {
        "colab": {
          "base_uri": "https://localhost:8080/"
        },
        "id": "SNKoX1eAi-UH",
        "outputId": "eafc4e52-fe65-4020-a110-6acee21ac6e1"
      },
      "source": [
        "#reservation status period\n",
        "d.loc[~pd.to_datetime(d['reservation_status_date']).isin(daterange)].shape"
      ],
      "execution_count": null,
      "outputs": [
        {
          "output_type": "execute_result",
          "data": {
            "text/plain": [
              "(2743, 4)"
            ]
          },
          "metadata": {},
          "execution_count": 56
        }
      ]
    },
    {
      "cell_type": "code",
      "metadata": {
        "colab": {
          "base_uri": "https://localhost:8080/"
        },
        "id": "TrYQCIKbjT4g",
        "outputId": "868261d3-5431-44ec-ff22-867d5c880124"
      },
      "source": [
        "#reservation status date range\n",
        "pd.to_datetime(d['reservation_status_date']).min(), pd.to_datetime(d['reservation_status_date']).max()"
      ],
      "execution_count": null,
      "outputs": [
        {
          "output_type": "execute_result",
          "data": {
            "text/plain": [
              "(Timestamp('2014-10-17 00:00:00'), Timestamp('2017-09-14 00:00:00'))"
            ]
          },
          "metadata": {},
          "execution_count": 58
        }
      ]
    },
    {
      "cell_type": "code",
      "metadata": {
        "colab": {
          "base_uri": "https://localhost:8080/"
        },
        "id": "4jGeLzvZiAnQ",
        "outputId": "b4d4ad98-b597-4fb9-d87a-d4f0289fa71e"
      },
      "source": [
        "data.loc[pd.to_datetime(data['reservation_status_date'])<pd.to_datetime('jul 2015'), ['is_canceled']].value_counts()"
      ],
      "execution_count": null,
      "outputs": [
        {
          "output_type": "execute_result",
          "data": {
            "text/plain": [
              "is_canceled\n",
              "1              2350\n",
              "dtype: int64"
            ]
          },
          "metadata": {},
          "execution_count": 63
        }
      ]
    },
    {
      "cell_type": "code",
      "metadata": {
        "colab": {
          "base_uri": "https://localhost:8080/",
          "height": 423
        },
        "id": "PxLaCYEIk9x-",
        "outputId": "c9cb33ca-a0c1-4296-e5ba-626686c2f3cc"
      },
      "source": [
        "d.loc[pd.to_datetime(d['reservation_status_date'])<pd.to_datetime('jul 2015')]"
      ],
      "execution_count": null,
      "outputs": [
        {
          "output_type": "execute_result",
          "data": {
            "text/html": [
              "<div>\n",
              "<style scoped>\n",
              "    .dataframe tbody tr th:only-of-type {\n",
              "        vertical-align: middle;\n",
              "    }\n",
              "\n",
              "    .dataframe tbody tr th {\n",
              "        vertical-align: top;\n",
              "    }\n",
              "\n",
              "    .dataframe thead th {\n",
              "        text-align: right;\n",
              "    }\n",
              "</style>\n",
              "<table border=\"1\" class=\"dataframe\">\n",
              "  <thead>\n",
              "    <tr style=\"text-align: right;\">\n",
              "      <th></th>\n",
              "      <th>reservation_status_date</th>\n",
              "      <th>arrival_date_year</th>\n",
              "      <th>arrival_date_month</th>\n",
              "      <th>arrival_period</th>\n",
              "    </tr>\n",
              "  </thead>\n",
              "  <tbody>\n",
              "    <tr>\n",
              "      <th>8</th>\n",
              "      <td>2015-05-06</td>\n",
              "      <td>2015</td>\n",
              "      <td>July</td>\n",
              "      <td>July2015</td>\n",
              "    </tr>\n",
              "    <tr>\n",
              "      <th>9</th>\n",
              "      <td>2015-04-22</td>\n",
              "      <td>2015</td>\n",
              "      <td>July</td>\n",
              "      <td>July2015</td>\n",
              "    </tr>\n",
              "    <tr>\n",
              "      <th>10</th>\n",
              "      <td>2015-06-23</td>\n",
              "      <td>2015</td>\n",
              "      <td>July</td>\n",
              "      <td>July2015</td>\n",
              "    </tr>\n",
              "    <tr>\n",
              "      <th>27</th>\n",
              "      <td>2015-05-11</td>\n",
              "      <td>2015</td>\n",
              "      <td>July</td>\n",
              "      <td>July2015</td>\n",
              "    </tr>\n",
              "    <tr>\n",
              "      <th>32</th>\n",
              "      <td>2015-05-29</td>\n",
              "      <td>2015</td>\n",
              "      <td>July</td>\n",
              "      <td>July2015</td>\n",
              "    </tr>\n",
              "    <tr>\n",
              "      <th>...</th>\n",
              "      <td>...</td>\n",
              "      <td>...</td>\n",
              "      <td>...</td>\n",
              "      <td>...</td>\n",
              "    </tr>\n",
              "    <tr>\n",
              "      <th>75119</th>\n",
              "      <td>2015-06-30</td>\n",
              "      <td>2015</td>\n",
              "      <td>September</td>\n",
              "      <td>September2015</td>\n",
              "    </tr>\n",
              "    <tr>\n",
              "      <th>75120</th>\n",
              "      <td>2015-06-30</td>\n",
              "      <td>2015</td>\n",
              "      <td>September</td>\n",
              "      <td>September2015</td>\n",
              "    </tr>\n",
              "    <tr>\n",
              "      <th>75121</th>\n",
              "      <td>2015-06-30</td>\n",
              "      <td>2015</td>\n",
              "      <td>September</td>\n",
              "      <td>September2015</td>\n",
              "    </tr>\n",
              "    <tr>\n",
              "      <th>75122</th>\n",
              "      <td>2015-06-30</td>\n",
              "      <td>2015</td>\n",
              "      <td>September</td>\n",
              "      <td>September2015</td>\n",
              "    </tr>\n",
              "    <tr>\n",
              "      <th>75123</th>\n",
              "      <td>2015-06-30</td>\n",
              "      <td>2015</td>\n",
              "      <td>July</td>\n",
              "      <td>July2015</td>\n",
              "    </tr>\n",
              "  </tbody>\n",
              "</table>\n",
              "<p>2350 rows × 4 columns</p>\n",
              "</div>"
            ],
            "text/plain": [
              "      reservation_status_date  ...  arrival_period\n",
              "8                  2015-05-06  ...        July2015\n",
              "9                  2015-04-22  ...        July2015\n",
              "10                 2015-06-23  ...        July2015\n",
              "27                 2015-05-11  ...        July2015\n",
              "32                 2015-05-29  ...        July2015\n",
              "...                       ...  ...             ...\n",
              "75119              2015-06-30  ...   September2015\n",
              "75120              2015-06-30  ...   September2015\n",
              "75121              2015-06-30  ...   September2015\n",
              "75122              2015-06-30  ...   September2015\n",
              "75123              2015-06-30  ...        July2015\n",
              "\n",
              "[2350 rows x 4 columns]"
            ]
          },
          "metadata": {},
          "execution_count": 65
        }
      ]
    },
    {
      "cell_type": "markdown",
      "metadata": {
        "id": "H4YvctDfi57m"
      },
      "source": [
        "All arrival dates are in the specified date range, however certain bookings and updates to those bookings have been made outside the specified date range as well"
      ]
    },
    {
      "cell_type": "markdown",
      "metadata": {
        "id": "YGLFYQfmjsZS"
      },
      "source": [
        "An interesting thing to observe is that certain reservation updates were made as early as 10 months early from the date of arrivals"
      ]
    },
    {
      "cell_type": "markdown",
      "metadata": {
        "id": "3Px997UJndLr"
      },
      "source": [
        "#### checking for anomalies in numeric data"
      ]
    },
    {
      "cell_type": "code",
      "metadata": {
        "colab": {
          "base_uri": "https://localhost:8080/"
        },
        "id": "fgw70fxNncs4",
        "outputId": "85fdf338-4d8e-476f-fba6-392e39ee9bcb"
      },
      "source": [
        "(data[numeric_fields]<0).any()"
      ],
      "execution_count": null,
      "outputs": [
        {
          "output_type": "execute_result",
          "data": {
            "text/plain": [
              "previous_bookings_not_canceled    False\n",
              "booking_changes                   False\n",
              "previous_cancellations            False\n",
              "lead_time                         False\n",
              "stays_in_weekend_nights           False\n",
              "days_in_waiting_list              False\n",
              "stays_in_week_nights              False\n",
              "required_car_parking_spaces       False\n",
              "children                          False\n",
              "arrival_date_day_of_month         False\n",
              "babies                            False\n",
              "total_of_special_requests         False\n",
              "adults                            False\n",
              "adr                                True\n",
              "arrival_date_week_number          False\n",
              "dtype: bool"
            ]
          },
          "metadata": {},
          "execution_count": 79
        }
      ]
    },
    {
      "cell_type": "code",
      "metadata": {
        "colab": {
          "base_uri": "https://localhost:8080/",
          "height": 118
        },
        "id": "wC8VOcipkCP0",
        "outputId": "9e43d19a-75dc-40cd-e507-6e0d4bd807e8"
      },
      "source": [
        "#average daily rate has negative values\n",
        "data.loc[data['adr']<0]"
      ],
      "execution_count": null,
      "outputs": [
        {
          "output_type": "execute_result",
          "data": {
            "text/html": [
              "<div>\n",
              "<style scoped>\n",
              "    .dataframe tbody tr th:only-of-type {\n",
              "        vertical-align: middle;\n",
              "    }\n",
              "\n",
              "    .dataframe tbody tr th {\n",
              "        vertical-align: top;\n",
              "    }\n",
              "\n",
              "    .dataframe thead th {\n",
              "        text-align: right;\n",
              "    }\n",
              "</style>\n",
              "<table border=\"1\" class=\"dataframe\">\n",
              "  <thead>\n",
              "    <tr style=\"text-align: right;\">\n",
              "      <th></th>\n",
              "      <th>hotel</th>\n",
              "      <th>is_canceled</th>\n",
              "      <th>lead_time</th>\n",
              "      <th>arrival_date_year</th>\n",
              "      <th>arrival_date_month</th>\n",
              "      <th>arrival_date_week_number</th>\n",
              "      <th>arrival_date_day_of_month</th>\n",
              "      <th>stays_in_weekend_nights</th>\n",
              "      <th>stays_in_week_nights</th>\n",
              "      <th>adults</th>\n",
              "      <th>children</th>\n",
              "      <th>babies</th>\n",
              "      <th>meal</th>\n",
              "      <th>country</th>\n",
              "      <th>market_segment</th>\n",
              "      <th>distribution_channel</th>\n",
              "      <th>is_repeated_guest</th>\n",
              "      <th>previous_cancellations</th>\n",
              "      <th>previous_bookings_not_canceled</th>\n",
              "      <th>reserved_room_type</th>\n",
              "      <th>assigned_room_type</th>\n",
              "      <th>booking_changes</th>\n",
              "      <th>deposit_type</th>\n",
              "      <th>agent</th>\n",
              "      <th>company</th>\n",
              "      <th>days_in_waiting_list</th>\n",
              "      <th>customer_type</th>\n",
              "      <th>adr</th>\n",
              "      <th>required_car_parking_spaces</th>\n",
              "      <th>total_of_special_requests</th>\n",
              "      <th>reservation_status</th>\n",
              "      <th>reservation_status_date</th>\n",
              "    </tr>\n",
              "  </thead>\n",
              "  <tbody>\n",
              "    <tr>\n",
              "      <th>14969</th>\n",
              "      <td>Resort Hotel</td>\n",
              "      <td>0</td>\n",
              "      <td>195</td>\n",
              "      <td>2017</td>\n",
              "      <td>March</td>\n",
              "      <td>10</td>\n",
              "      <td>5</td>\n",
              "      <td>4</td>\n",
              "      <td>6</td>\n",
              "      <td>2</td>\n",
              "      <td>0.0</td>\n",
              "      <td>0</td>\n",
              "      <td>BB</td>\n",
              "      <td>GBR</td>\n",
              "      <td>Groups</td>\n",
              "      <td>Direct</td>\n",
              "      <td>1</td>\n",
              "      <td>0</td>\n",
              "      <td>2</td>\n",
              "      <td>A</td>\n",
              "      <td>H</td>\n",
              "      <td>2</td>\n",
              "      <td>No Deposit</td>\n",
              "      <td>273.0</td>\n",
              "      <td>NaN</td>\n",
              "      <td>0</td>\n",
              "      <td>Transient-Party</td>\n",
              "      <td>-6.38</td>\n",
              "      <td>0</td>\n",
              "      <td>0</td>\n",
              "      <td>Check-Out</td>\n",
              "      <td>2017-03-15</td>\n",
              "    </tr>\n",
              "  </tbody>\n",
              "</table>\n",
              "</div>"
            ],
            "text/plain": [
              "              hotel  is_canceled  ...  reservation_status  reservation_status_date\n",
              "14969  Resort Hotel            0  ...           Check-Out               2017-03-15\n",
              "\n",
              "[1 rows x 32 columns]"
            ]
          },
          "metadata": {},
          "execution_count": 83
        }
      ]
    },
    {
      "cell_type": "markdown",
      "metadata": {
        "id": "A7uz0MdnnO5V"
      },
      "source": [
        "It is an anomaly"
      ]
    },
    {
      "cell_type": "code",
      "metadata": {
        "id": "M_r2HJmrmMvw",
        "colab": {
          "base_uri": "https://localhost:8080/",
          "height": 617
        },
        "outputId": "020c216d-cdae-4861-88a6-6bcc71bbfb9b"
      },
      "source": [
        "data.loc[data['adr']==0]"
      ],
      "execution_count": null,
      "outputs": [
        {
          "output_type": "execute_result",
          "data": {
            "text/html": [
              "<div>\n",
              "<style scoped>\n",
              "    .dataframe tbody tr th:only-of-type {\n",
              "        vertical-align: middle;\n",
              "    }\n",
              "\n",
              "    .dataframe tbody tr th {\n",
              "        vertical-align: top;\n",
              "    }\n",
              "\n",
              "    .dataframe thead th {\n",
              "        text-align: right;\n",
              "    }\n",
              "</style>\n",
              "<table border=\"1\" class=\"dataframe\">\n",
              "  <thead>\n",
              "    <tr style=\"text-align: right;\">\n",
              "      <th></th>\n",
              "      <th>hotel</th>\n",
              "      <th>is_canceled</th>\n",
              "      <th>lead_time</th>\n",
              "      <th>arrival_date_year</th>\n",
              "      <th>arrival_date_month</th>\n",
              "      <th>arrival_date_week_number</th>\n",
              "      <th>arrival_date_day_of_month</th>\n",
              "      <th>stays_in_weekend_nights</th>\n",
              "      <th>stays_in_week_nights</th>\n",
              "      <th>adults</th>\n",
              "      <th>children</th>\n",
              "      <th>babies</th>\n",
              "      <th>meal</th>\n",
              "      <th>country</th>\n",
              "      <th>market_segment</th>\n",
              "      <th>distribution_channel</th>\n",
              "      <th>is_repeated_guest</th>\n",
              "      <th>previous_cancellations</th>\n",
              "      <th>previous_bookings_not_canceled</th>\n",
              "      <th>reserved_room_type</th>\n",
              "      <th>assigned_room_type</th>\n",
              "      <th>booking_changes</th>\n",
              "      <th>deposit_type</th>\n",
              "      <th>agent</th>\n",
              "      <th>company</th>\n",
              "      <th>days_in_waiting_list</th>\n",
              "      <th>customer_type</th>\n",
              "      <th>adr</th>\n",
              "      <th>required_car_parking_spaces</th>\n",
              "      <th>total_of_special_requests</th>\n",
              "      <th>reservation_status</th>\n",
              "      <th>reservation_status_date</th>\n",
              "    </tr>\n",
              "  </thead>\n",
              "  <tbody>\n",
              "    <tr>\n",
              "      <th>0</th>\n",
              "      <td>Resort Hotel</td>\n",
              "      <td>0</td>\n",
              "      <td>342</td>\n",
              "      <td>2015</td>\n",
              "      <td>July</td>\n",
              "      <td>27</td>\n",
              "      <td>1</td>\n",
              "      <td>0</td>\n",
              "      <td>0</td>\n",
              "      <td>2</td>\n",
              "      <td>0.0</td>\n",
              "      <td>0</td>\n",
              "      <td>BB</td>\n",
              "      <td>PRT</td>\n",
              "      <td>Direct</td>\n",
              "      <td>Direct</td>\n",
              "      <td>0</td>\n",
              "      <td>0</td>\n",
              "      <td>0</td>\n",
              "      <td>C</td>\n",
              "      <td>C</td>\n",
              "      <td>3</td>\n",
              "      <td>No Deposit</td>\n",
              "      <td>NaN</td>\n",
              "      <td>NaN</td>\n",
              "      <td>0</td>\n",
              "      <td>Transient</td>\n",
              "      <td>0.0</td>\n",
              "      <td>0</td>\n",
              "      <td>0</td>\n",
              "      <td>Check-Out</td>\n",
              "      <td>2015-07-01</td>\n",
              "    </tr>\n",
              "    <tr>\n",
              "      <th>1</th>\n",
              "      <td>Resort Hotel</td>\n",
              "      <td>0</td>\n",
              "      <td>737</td>\n",
              "      <td>2015</td>\n",
              "      <td>July</td>\n",
              "      <td>27</td>\n",
              "      <td>1</td>\n",
              "      <td>0</td>\n",
              "      <td>0</td>\n",
              "      <td>2</td>\n",
              "      <td>0.0</td>\n",
              "      <td>0</td>\n",
              "      <td>BB</td>\n",
              "      <td>PRT</td>\n",
              "      <td>Direct</td>\n",
              "      <td>Direct</td>\n",
              "      <td>0</td>\n",
              "      <td>0</td>\n",
              "      <td>0</td>\n",
              "      <td>C</td>\n",
              "      <td>C</td>\n",
              "      <td>4</td>\n",
              "      <td>No Deposit</td>\n",
              "      <td>NaN</td>\n",
              "      <td>NaN</td>\n",
              "      <td>0</td>\n",
              "      <td>Transient</td>\n",
              "      <td>0.0</td>\n",
              "      <td>0</td>\n",
              "      <td>0</td>\n",
              "      <td>Check-Out</td>\n",
              "      <td>2015-07-01</td>\n",
              "    </tr>\n",
              "    <tr>\n",
              "      <th>125</th>\n",
              "      <td>Resort Hotel</td>\n",
              "      <td>0</td>\n",
              "      <td>32</td>\n",
              "      <td>2015</td>\n",
              "      <td>July</td>\n",
              "      <td>27</td>\n",
              "      <td>4</td>\n",
              "      <td>0</td>\n",
              "      <td>1</td>\n",
              "      <td>4</td>\n",
              "      <td>0.0</td>\n",
              "      <td>0</td>\n",
              "      <td>FB</td>\n",
              "      <td>PRT</td>\n",
              "      <td>Complementary</td>\n",
              "      <td>Direct</td>\n",
              "      <td>0</td>\n",
              "      <td>0</td>\n",
              "      <td>0</td>\n",
              "      <td>H</td>\n",
              "      <td>H</td>\n",
              "      <td>2</td>\n",
              "      <td>No Deposit</td>\n",
              "      <td>NaN</td>\n",
              "      <td>NaN</td>\n",
              "      <td>0</td>\n",
              "      <td>Transient</td>\n",
              "      <td>0.0</td>\n",
              "      <td>0</td>\n",
              "      <td>1</td>\n",
              "      <td>Check-Out</td>\n",
              "      <td>2015-07-05</td>\n",
              "    </tr>\n",
              "    <tr>\n",
              "      <th>167</th>\n",
              "      <td>Resort Hotel</td>\n",
              "      <td>0</td>\n",
              "      <td>111</td>\n",
              "      <td>2015</td>\n",
              "      <td>July</td>\n",
              "      <td>28</td>\n",
              "      <td>6</td>\n",
              "      <td>0</td>\n",
              "      <td>0</td>\n",
              "      <td>2</td>\n",
              "      <td>0.0</td>\n",
              "      <td>0</td>\n",
              "      <td>BB</td>\n",
              "      <td>PRT</td>\n",
              "      <td>Online TA</td>\n",
              "      <td>TA/TO</td>\n",
              "      <td>0</td>\n",
              "      <td>0</td>\n",
              "      <td>0</td>\n",
              "      <td>A</td>\n",
              "      <td>H</td>\n",
              "      <td>0</td>\n",
              "      <td>No Deposit</td>\n",
              "      <td>240.0</td>\n",
              "      <td>NaN</td>\n",
              "      <td>0</td>\n",
              "      <td>Transient</td>\n",
              "      <td>0.0</td>\n",
              "      <td>0</td>\n",
              "      <td>2</td>\n",
              "      <td>Check-Out</td>\n",
              "      <td>2015-07-06</td>\n",
              "    </tr>\n",
              "    <tr>\n",
              "      <th>168</th>\n",
              "      <td>Resort Hotel</td>\n",
              "      <td>0</td>\n",
              "      <td>0</td>\n",
              "      <td>2015</td>\n",
              "      <td>July</td>\n",
              "      <td>28</td>\n",
              "      <td>6</td>\n",
              "      <td>0</td>\n",
              "      <td>0</td>\n",
              "      <td>1</td>\n",
              "      <td>0.0</td>\n",
              "      <td>0</td>\n",
              "      <td>BB</td>\n",
              "      <td>PRT</td>\n",
              "      <td>Direct</td>\n",
              "      <td>Direct</td>\n",
              "      <td>0</td>\n",
              "      <td>0</td>\n",
              "      <td>0</td>\n",
              "      <td>E</td>\n",
              "      <td>H</td>\n",
              "      <td>0</td>\n",
              "      <td>No Deposit</td>\n",
              "      <td>250.0</td>\n",
              "      <td>NaN</td>\n",
              "      <td>0</td>\n",
              "      <td>Transient</td>\n",
              "      <td>0.0</td>\n",
              "      <td>0</td>\n",
              "      <td>0</td>\n",
              "      <td>Check-Out</td>\n",
              "      <td>2015-07-06</td>\n",
              "    </tr>\n",
              "    <tr>\n",
              "      <th>...</th>\n",
              "      <td>...</td>\n",
              "      <td>...</td>\n",
              "      <td>...</td>\n",
              "      <td>...</td>\n",
              "      <td>...</td>\n",
              "      <td>...</td>\n",
              "      <td>...</td>\n",
              "      <td>...</td>\n",
              "      <td>...</td>\n",
              "      <td>...</td>\n",
              "      <td>...</td>\n",
              "      <td>...</td>\n",
              "      <td>...</td>\n",
              "      <td>...</td>\n",
              "      <td>...</td>\n",
              "      <td>...</td>\n",
              "      <td>...</td>\n",
              "      <td>...</td>\n",
              "      <td>...</td>\n",
              "      <td>...</td>\n",
              "      <td>...</td>\n",
              "      <td>...</td>\n",
              "      <td>...</td>\n",
              "      <td>...</td>\n",
              "      <td>...</td>\n",
              "      <td>...</td>\n",
              "      <td>...</td>\n",
              "      <td>...</td>\n",
              "      <td>...</td>\n",
              "      <td>...</td>\n",
              "      <td>...</td>\n",
              "      <td>...</td>\n",
              "    </tr>\n",
              "    <tr>\n",
              "      <th>118631</th>\n",
              "      <td>City Hotel</td>\n",
              "      <td>0</td>\n",
              "      <td>78</td>\n",
              "      <td>2017</td>\n",
              "      <td>August</td>\n",
              "      <td>34</td>\n",
              "      <td>23</td>\n",
              "      <td>0</td>\n",
              "      <td>0</td>\n",
              "      <td>1</td>\n",
              "      <td>0.0</td>\n",
              "      <td>0</td>\n",
              "      <td>BB</td>\n",
              "      <td>PRT</td>\n",
              "      <td>Offline TA/TO</td>\n",
              "      <td>TA/TO</td>\n",
              "      <td>0</td>\n",
              "      <td>0</td>\n",
              "      <td>0</td>\n",
              "      <td>A</td>\n",
              "      <td>K</td>\n",
              "      <td>7</td>\n",
              "      <td>No Deposit</td>\n",
              "      <td>98.0</td>\n",
              "      <td>NaN</td>\n",
              "      <td>0</td>\n",
              "      <td>Transient-Party</td>\n",
              "      <td>0.0</td>\n",
              "      <td>0</td>\n",
              "      <td>0</td>\n",
              "      <td>Check-Out</td>\n",
              "      <td>2017-08-23</td>\n",
              "    </tr>\n",
              "    <tr>\n",
              "      <th>118762</th>\n",
              "      <td>City Hotel</td>\n",
              "      <td>0</td>\n",
              "      <td>1</td>\n",
              "      <td>2017</td>\n",
              "      <td>August</td>\n",
              "      <td>34</td>\n",
              "      <td>24</td>\n",
              "      <td>0</td>\n",
              "      <td>1</td>\n",
              "      <td>2</td>\n",
              "      <td>1.0</td>\n",
              "      <td>0</td>\n",
              "      <td>BB</td>\n",
              "      <td>PRT</td>\n",
              "      <td>Complementary</td>\n",
              "      <td>Direct</td>\n",
              "      <td>0</td>\n",
              "      <td>0</td>\n",
              "      <td>0</td>\n",
              "      <td>A</td>\n",
              "      <td>D</td>\n",
              "      <td>1</td>\n",
              "      <td>No Deposit</td>\n",
              "      <td>NaN</td>\n",
              "      <td>NaN</td>\n",
              "      <td>0</td>\n",
              "      <td>Transient</td>\n",
              "      <td>0.0</td>\n",
              "      <td>0</td>\n",
              "      <td>3</td>\n",
              "      <td>Check-Out</td>\n",
              "      <td>2017-08-25</td>\n",
              "    </tr>\n",
              "    <tr>\n",
              "      <th>118963</th>\n",
              "      <td>City Hotel</td>\n",
              "      <td>0</td>\n",
              "      <td>1</td>\n",
              "      <td>2017</td>\n",
              "      <td>August</td>\n",
              "      <td>35</td>\n",
              "      <td>27</td>\n",
              "      <td>0</td>\n",
              "      <td>0</td>\n",
              "      <td>2</td>\n",
              "      <td>0.0</td>\n",
              "      <td>0</td>\n",
              "      <td>BB</td>\n",
              "      <td>PRT</td>\n",
              "      <td>Direct</td>\n",
              "      <td>Direct</td>\n",
              "      <td>0</td>\n",
              "      <td>0</td>\n",
              "      <td>0</td>\n",
              "      <td>A</td>\n",
              "      <td>A</td>\n",
              "      <td>0</td>\n",
              "      <td>No Deposit</td>\n",
              "      <td>NaN</td>\n",
              "      <td>NaN</td>\n",
              "      <td>0</td>\n",
              "      <td>Transient</td>\n",
              "      <td>0.0</td>\n",
              "      <td>0</td>\n",
              "      <td>0</td>\n",
              "      <td>Check-Out</td>\n",
              "      <td>2017-08-27</td>\n",
              "    </tr>\n",
              "    <tr>\n",
              "      <th>119102</th>\n",
              "      <td>City Hotel</td>\n",
              "      <td>0</td>\n",
              "      <td>518</td>\n",
              "      <td>2017</td>\n",
              "      <td>August</td>\n",
              "      <td>34</td>\n",
              "      <td>26</td>\n",
              "      <td>2</td>\n",
              "      <td>1</td>\n",
              "      <td>1</td>\n",
              "      <td>0.0</td>\n",
              "      <td>0</td>\n",
              "      <td>BB</td>\n",
              "      <td>PRT</td>\n",
              "      <td>Groups</td>\n",
              "      <td>TA/TO</td>\n",
              "      <td>0</td>\n",
              "      <td>0</td>\n",
              "      <td>0</td>\n",
              "      <td>A</td>\n",
              "      <td>A</td>\n",
              "      <td>1</td>\n",
              "      <td>No Deposit</td>\n",
              "      <td>229.0</td>\n",
              "      <td>NaN</td>\n",
              "      <td>0</td>\n",
              "      <td>Transient-Party</td>\n",
              "      <td>0.0</td>\n",
              "      <td>0</td>\n",
              "      <td>0</td>\n",
              "      <td>Check-Out</td>\n",
              "      <td>2017-08-29</td>\n",
              "    </tr>\n",
              "    <tr>\n",
              "      <th>119124</th>\n",
              "      <td>City Hotel</td>\n",
              "      <td>0</td>\n",
              "      <td>0</td>\n",
              "      <td>2017</td>\n",
              "      <td>August</td>\n",
              "      <td>35</td>\n",
              "      <td>29</td>\n",
              "      <td>0</td>\n",
              "      <td>1</td>\n",
              "      <td>1</td>\n",
              "      <td>0.0</td>\n",
              "      <td>0</td>\n",
              "      <td>BB</td>\n",
              "      <td>PRT</td>\n",
              "      <td>Complementary</td>\n",
              "      <td>Corporate</td>\n",
              "      <td>0</td>\n",
              "      <td>0</td>\n",
              "      <td>0</td>\n",
              "      <td>A</td>\n",
              "      <td>A</td>\n",
              "      <td>0</td>\n",
              "      <td>No Deposit</td>\n",
              "      <td>NaN</td>\n",
              "      <td>72.0</td>\n",
              "      <td>0</td>\n",
              "      <td>Transient</td>\n",
              "      <td>0.0</td>\n",
              "      <td>0</td>\n",
              "      <td>2</td>\n",
              "      <td>Check-Out</td>\n",
              "      <td>2017-08-30</td>\n",
              "    </tr>\n",
              "  </tbody>\n",
              "</table>\n",
              "<p>1959 rows × 32 columns</p>\n",
              "</div>"
            ],
            "text/plain": [
              "               hotel  is_canceled  ...  reservation_status  reservation_status_date\n",
              "0       Resort Hotel            0  ...           Check-Out               2015-07-01\n",
              "1       Resort Hotel            0  ...           Check-Out               2015-07-01\n",
              "125     Resort Hotel            0  ...           Check-Out               2015-07-05\n",
              "167     Resort Hotel            0  ...           Check-Out               2015-07-06\n",
              "168     Resort Hotel            0  ...           Check-Out               2015-07-06\n",
              "...              ...          ...  ...                 ...                      ...\n",
              "118631    City Hotel            0  ...           Check-Out               2017-08-23\n",
              "118762    City Hotel            0  ...           Check-Out               2017-08-25\n",
              "118963    City Hotel            0  ...           Check-Out               2017-08-27\n",
              "119102    City Hotel            0  ...           Check-Out               2017-08-29\n",
              "119124    City Hotel            0  ...           Check-Out               2017-08-30\n",
              "\n",
              "[1959 rows x 32 columns]"
            ]
          },
          "metadata": {},
          "execution_count": 84
        }
      ]
    },
    {
      "cell_type": "markdown",
      "metadata": {
        "id": "ztBzMZfa6fhm"
      },
      "source": [
        "### As a hotel owner, the KPIs are important in understanding the performance of the hotel\n",
        "\n",
        "__Average Daily Rate: measure of average rate paid per room that's occupied at the property. ADR is calculated to have an understanding of a hotel's profits and performance__ </br>\n",
        "\n",
        "We shall analyse the factors that help improve adr"
      ]
    },
    {
      "cell_type": "markdown",
      "metadata": {
        "id": "vJ8T92RQzSRr"
      },
      "source": [
        "### Univariate analysis "
      ]
    },
    {
      "cell_type": "code",
      "metadata": {
        "id": "ntyg6zIJpnBu",
        "colab": {
          "base_uri": "https://localhost:8080/",
          "height": 334
        },
        "outputId": "7e3b7db6-51bf-4eb7-fdc2-3a41ac3305ea"
      },
      "source": [
        "fig = plt.figure()\n",
        "sns.boxplot(data['adr'])\n",
        "plt.show()"
      ],
      "execution_count": null,
      "outputs": [
        {
          "output_type": "stream",
          "name": "stderr",
          "text": [
            "/usr/local/lib/python3.7/dist-packages/seaborn/_decorators.py:43: FutureWarning: Pass the following variable as a keyword arg: x. From version 0.12, the only valid positional argument will be `data`, and passing other arguments without an explicit keyword will result in an error or misinterpretation.\n",
            "  FutureWarning\n"
          ]
        },
        {
          "output_type": "display_data",
          "data": {
            "image/png": "[encoded data removed]",
            "text/plain": [
              "<Figure size 432x288 with 1 Axes>"
            ]
          },
          "metadata": {
            "needs_background": "light"
          }
        }
      ]
    },
    {
      "cell_type": "markdown",
      "metadata": {
        "id": "1b8NQPj2-ncp"
      },
      "source": [
        "there are a few outliers, let us observe the outliers and try to resolve them"
      ]
    },
    {
      "cell_type": "code",
      "metadata": {
        "colab": {
          "base_uri": "https://localhost:8080/",
          "height": 118
        },
        "id": "hpU10N169_Sn",
        "outputId": "cea9b552-061f-44c3-f3b3-b72ba4dfffe4"
      },
      "source": [
        "data.loc[data.adr>1000]"
      ],
      "execution_count": null,
      "outputs": [
        {
          "output_type": "execute_result",
          "data": {
            "text/html": [
              "<div>\n",
              "<style scoped>\n",
              "    .dataframe tbody tr th:only-of-type {\n",
              "        vertical-align: middle;\n",
              "    }\n",
              "\n",
              "    .dataframe tbody tr th {\n",
              "        vertical-align: top;\n",
              "    }\n",
              "\n",
              "    .dataframe thead th {\n",
              "        text-align: right;\n",
              "    }\n",
              "</style>\n",
              "<table border=\"1\" class=\"dataframe\">\n",
              "  <thead>\n",
              "    <tr style=\"text-align: right;\">\n",
              "      <th></th>\n",
              "      <th>hotel</th>\n",
              "      <th>is_canceled</th>\n",
              "      <th>lead_time</th>\n",
              "      <th>arrival_date_year</th>\n",
              "      <th>arrival_date_month</th>\n",
              "      <th>arrival_date_week_number</th>\n",
              "      <th>arrival_date_day_of_month</th>\n",
              "      <th>stays_in_weekend_nights</th>\n",
              "      <th>stays_in_week_nights</th>\n",
              "      <th>adults</th>\n",
              "      <th>children</th>\n",
              "      <th>babies</th>\n",
              "      <th>meal</th>\n",
              "      <th>country</th>\n",
              "      <th>market_segment</th>\n",
              "      <th>distribution_channel</th>\n",
              "      <th>is_repeated_guest</th>\n",
              "      <th>previous_cancellations</th>\n",
              "      <th>previous_bookings_not_canceled</th>\n",
              "      <th>reserved_room_type</th>\n",
              "      <th>assigned_room_type</th>\n",
              "      <th>booking_changes</th>\n",
              "      <th>deposit_type</th>\n",
              "      <th>agent</th>\n",
              "      <th>company</th>\n",
              "      <th>days_in_waiting_list</th>\n",
              "      <th>customer_type</th>\n",
              "      <th>adr</th>\n",
              "      <th>required_car_parking_spaces</th>\n",
              "      <th>total_of_special_requests</th>\n",
              "      <th>reservation_status</th>\n",
              "      <th>reservation_status_date</th>\n",
              "    </tr>\n",
              "  </thead>\n",
              "  <tbody>\n",
              "    <tr>\n",
              "      <th>48515</th>\n",
              "      <td>City Hotel</td>\n",
              "      <td>1</td>\n",
              "      <td>35</td>\n",
              "      <td>2016</td>\n",
              "      <td>March</td>\n",
              "      <td>13</td>\n",
              "      <td>25</td>\n",
              "      <td>0</td>\n",
              "      <td>1</td>\n",
              "      <td>2</td>\n",
              "      <td>0.0</td>\n",
              "      <td>0</td>\n",
              "      <td>BB</td>\n",
              "      <td>PRT</td>\n",
              "      <td>Offline TA/TO</td>\n",
              "      <td>TA/TO</td>\n",
              "      <td>0</td>\n",
              "      <td>0</td>\n",
              "      <td>0</td>\n",
              "      <td>A</td>\n",
              "      <td>A</td>\n",
              "      <td>1</td>\n",
              "      <td>Non Refund</td>\n",
              "      <td>12.0</td>\n",
              "      <td>NaN</td>\n",
              "      <td>0</td>\n",
              "      <td>Transient</td>\n",
              "      <td>5400.0</td>\n",
              "      <td>0</td>\n",
              "      <td>0</td>\n",
              "      <td>Canceled</td>\n",
              "      <td>2016-02-19</td>\n",
              "    </tr>\n",
              "  </tbody>\n",
              "</table>\n",
              "</div>"
            ],
            "text/plain": [
              "            hotel  is_canceled  ...  reservation_status  reservation_status_date\n",
              "48515  City Hotel            1  ...            Canceled               2016-02-19\n",
              "\n",
              "[1 rows x 32 columns]"
            ]
          },
          "metadata": {},
          "execution_count": 20
        }
      ]
    },
    {
      "cell_type": "code",
      "metadata": {
        "colab": {
          "base_uri": "https://localhost:8080/"
        },
        "id": "d9pYTT40-U1C",
        "outputId": "a3ae7970-34a1-4da3-b5db-8852f26b3942"
      },
      "source": [
        "d_ = data.loc[(data.adr>=0)&(data.adr<2000)]\n",
        "print(d_.shape)"
      ],
      "execution_count": null,
      "outputs": [
        {
          "output_type": "stream",
          "name": "stdout",
          "text": [
            "(119388, 32)\n"
          ]
        }
      ]
    },
    {
      "cell_type": "markdown",
      "metadata": {
        "id": "AWKb2C5JOr4Q"
      },
      "source": [
        "#### 1. analysing adr against cancellation, hotel, arrival_date_month, arrival_date_year, reserved_room_type, assigned_room_type, market_segment"
      ]
    },
    {
      "cell_type": "code",
      "metadata": {
        "colab": {
          "base_uri": "https://localhost:8080/",
          "height": 295
        },
        "id": "g1-vHEki_qmK",
        "outputId": "d9d6a3e0-463d-4c86-cabf-d68badc86b38"
      },
      "source": [
        "#distribution of adr among cancelled and confirmed bookings\n",
        "fig = plt.figure()\n",
        "sns.kdeplot(d_['adr'], hue=d_['is_canceled']);\n",
        "plt.title('distribution of adr among canceled and confirmed booking')\n",
        "plt.show()"
      ],
      "execution_count": null,
      "outputs": [
        {
          "output_type": "display_data",
          "data": {
            "image/png": "[encoded data removed]",
            "text/plain": [
              "<Figure size 432x288 with 1 Axes>"
            ]
          },
          "metadata": {
            "needs_background": "light"
          }
        }
      ]
    },
    {
      "cell_type": "code",
      "metadata": {
        "colab": {
          "base_uri": "https://localhost:8080/",
          "height": 295
        },
        "id": "QCE96mxv__Ir",
        "outputId": "85ceec70-49b1-4003-885b-b93c79793f48"
      },
      "source": [
        "#distribution of adr among city hotels and resort hotels\n",
        "fig = plt.figure()\n",
        "sns.kdeplot(d_['adr'], hue=d_['hotel'])\n",
        "plt.title('distribution of adr among two hotel types')\n",
        "plt.show()"
      ],
      "execution_count": null,
      "outputs": [
        {
          "output_type": "display_data",
          "data": {
            "image/png": "[encoded data removed]",
            "text/plain": [
              "<Figure size 432x288 with 1 Axes>"
            ]
          },
          "metadata": {
            "needs_background": "light"
          }
        }
      ]
    },
    {
      "cell_type": "code",
      "metadata": {
        "colab": {
          "base_uri": "https://localhost:8080/",
          "height": 143
        },
        "id": "A_IFgiSBAlpN",
        "outputId": "1d156d8f-3ad1-404d-b582-d24b25bcb5fb"
      },
      "source": [
        "d_.groupby(by=['hotel'])['adr'].describe()"
      ],
      "execution_count": null,
      "outputs": [
        {
          "output_type": "execute_result",
          "data": {
            "text/html": [
              "<div>\n",
              "<style scoped>\n",
              "    .dataframe tbody tr th:only-of-type {\n",
              "        vertical-align: middle;\n",
              "    }\n",
              "\n",
              "    .dataframe tbody tr th {\n",
              "        vertical-align: top;\n",
              "    }\n",
              "\n",
              "    .dataframe thead th {\n",
              "        text-align: right;\n",
              "    }\n",
              "</style>\n",
              "<table border=\"1\" class=\"dataframe\">\n",
              "  <thead>\n",
              "    <tr style=\"text-align: right;\">\n",
              "      <th></th>\n",
              "      <th>count</th>\n",
              "      <th>mean</th>\n",
              "      <th>std</th>\n",
              "      <th>min</th>\n",
              "      <th>25%</th>\n",
              "      <th>50%</th>\n",
              "      <th>75%</th>\n",
              "      <th>max</th>\n",
              "    </tr>\n",
              "    <tr>\n",
              "      <th>hotel</th>\n",
              "      <th></th>\n",
              "      <th></th>\n",
              "      <th></th>\n",
              "      <th></th>\n",
              "      <th></th>\n",
              "      <th></th>\n",
              "      <th></th>\n",
              "      <th></th>\n",
              "    </tr>\n",
              "  </thead>\n",
              "  <tbody>\n",
              "    <tr>\n",
              "      <th>City Hotel</th>\n",
              "      <td>79329.0</td>\n",
              "      <td>105.237722</td>\n",
              "      <td>39.342675</td>\n",
              "      <td>0.0</td>\n",
              "      <td>79.2</td>\n",
              "      <td>99.9</td>\n",
              "      <td>126.0</td>\n",
              "      <td>510.0</td>\n",
              "    </tr>\n",
              "    <tr>\n",
              "      <th>Resort Hotel</th>\n",
              "      <td>40059.0</td>\n",
              "      <td>94.955459</td>\n",
              "      <td>61.441099</td>\n",
              "      <td>0.0</td>\n",
              "      <td>50.0</td>\n",
              "      <td>75.0</td>\n",
              "      <td>125.0</td>\n",
              "      <td>508.0</td>\n",
              "    </tr>\n",
              "  </tbody>\n",
              "</table>\n",
              "</div>"
            ],
            "text/plain": [
              "                count        mean        std  min   25%   50%    75%    max\n",
              "hotel                                                                      \n",
              "City Hotel    79329.0  105.237722  39.342675  0.0  79.2  99.9  126.0  510.0\n",
              "Resort Hotel  40059.0   94.955459  61.441099  0.0  50.0  75.0  125.0  508.0"
            ]
          },
          "metadata": {},
          "execution_count": 26
        }
      ]
    },
    {
      "cell_type": "code",
      "metadata": {
        "id": "1lTTEtXqBG8o"
      },
      "source": [
        "#is there a variation in adr based on different month of the year\n",
        "t = d_.groupby(by=['arrival_date_month'])['adr'].describe()"
      ],
      "execution_count": null,
      "outputs": []
    },
    {
      "cell_type": "code",
      "metadata": {
        "colab": {
          "base_uri": "https://localhost:8080/",
          "height": 388
        },
        "id": "ZLk9unQNBwJB",
        "outputId": "4345716b-300e-4171-afcb-ed2790888667"
      },
      "source": [
        "fig, ax = plt.subplots(nrows=1, ncols=2, sharey=True, figsize=(10,6))\n",
        "sns.barplot(y=t.index, x=t['50%'], color='blue', ax=ax[0]);\n",
        "sns.boxplot(x=d_['adr'], y=d_['arrival_date_month'], color='green', ax=ax[1]);\n",
        "plt.show()"
      ],
      "execution_count": null,
      "outputs": [
        {
          "output_type": "display_data",
          "data": {
            "image/png": "[encoded data removed]",
            "text/plain": [
              "<Figure size 720x432 with 2 Axes>"
            ]
          },
          "metadata": {
            "needs_background": "light"
          }
        }
      ]
    },
    {
      "cell_type": "markdown",
      "metadata": {
        "id": "Qaid2m3KCwuj"
      },
      "source": [
        "August has higher adr compared to other months"
      ]
    },
    {
      "cell_type": "code",
      "metadata": {
        "colab": {
          "base_uri": "https://localhost:8080/",
          "height": 457
        },
        "id": "3iFTDsINCKsc",
        "outputId": "9f83fab8-0caf-4d5d-dac2-8ff717c20623"
      },
      "source": [
        "t.sort_values(by=['50%','mean'], ascending=False)"
      ],
      "execution_count": null,
      "outputs": [
        {
          "output_type": "execute_result",
          "data": {
            "text/html": [
              "<div>\n",
              "<style scoped>\n",
              "    .dataframe tbody tr th:only-of-type {\n",
              "        vertical-align: middle;\n",
              "    }\n",
              "\n",
              "    .dataframe tbody tr th {\n",
              "        vertical-align: top;\n",
              "    }\n",
              "\n",
              "    .dataframe thead th {\n",
              "        text-align: right;\n",
              "    }\n",
              "</style>\n",
              "<table border=\"1\" class=\"dataframe\">\n",
              "  <thead>\n",
              "    <tr style=\"text-align: right;\">\n",
              "      <th></th>\n",
              "      <th>count</th>\n",
              "      <th>mean</th>\n",
              "      <th>std</th>\n",
              "      <th>min</th>\n",
              "      <th>25%</th>\n",
              "      <th>50%</th>\n",
              "      <th>75%</th>\n",
              "      <th>max</th>\n",
              "    </tr>\n",
              "    <tr>\n",
              "      <th>arrival_date_month</th>\n",
              "      <th></th>\n",
              "      <th></th>\n",
              "      <th></th>\n",
              "      <th></th>\n",
              "      <th></th>\n",
              "      <th></th>\n",
              "      <th></th>\n",
              "      <th></th>\n",
              "    </tr>\n",
              "  </thead>\n",
              "  <tbody>\n",
              "    <tr>\n",
              "      <th>August</th>\n",
              "      <td>13877.0</td>\n",
              "      <td>140.111523</td>\n",
              "      <td>61.657384</td>\n",
              "      <td>0.0</td>\n",
              "      <td>95.0000</td>\n",
              "      <td>130.50</td>\n",
              "      <td>180.0000</td>\n",
              "      <td>450.00</td>\n",
              "    </tr>\n",
              "    <tr>\n",
              "      <th>July</th>\n",
              "      <td>12661.0</td>\n",
              "      <td>126.788013</td>\n",
              "      <td>52.064455</td>\n",
              "      <td>0.0</td>\n",
              "      <td>90.0000</td>\n",
              "      <td>118.10</td>\n",
              "      <td>155.1000</td>\n",
              "      <td>508.00</td>\n",
              "    </tr>\n",
              "    <tr>\n",
              "      <th>June</th>\n",
              "      <td>10939.0</td>\n",
              "      <td>116.672192</td>\n",
              "      <td>38.773671</td>\n",
              "      <td>0.0</td>\n",
              "      <td>92.0000</td>\n",
              "      <td>115.00</td>\n",
              "      <td>135.0000</td>\n",
              "      <td>333.67</td>\n",
              "    </tr>\n",
              "    <tr>\n",
              "      <th>May</th>\n",
              "      <td>11791.0</td>\n",
              "      <td>108.695516</td>\n",
              "      <td>42.875641</td>\n",
              "      <td>0.0</td>\n",
              "      <td>80.1000</td>\n",
              "      <td>108.00</td>\n",
              "      <td>132.6000</td>\n",
              "      <td>510.00</td>\n",
              "    </tr>\n",
              "    <tr>\n",
              "      <th>September</th>\n",
              "      <td>10508.0</td>\n",
              "      <td>105.049657</td>\n",
              "      <td>43.004095</td>\n",
              "      <td>0.0</td>\n",
              "      <td>74.8975</td>\n",
              "      <td>100.30</td>\n",
              "      <td>130.0000</td>\n",
              "      <td>345.00</td>\n",
              "    </tr>\n",
              "    <tr>\n",
              "      <th>April</th>\n",
              "      <td>11089.0</td>\n",
              "      <td>100.380790</td>\n",
              "      <td>38.193729</td>\n",
              "      <td>0.0</td>\n",
              "      <td>77.0000</td>\n",
              "      <td>96.30</td>\n",
              "      <td>119.0000</td>\n",
              "      <td>336.00</td>\n",
              "    </tr>\n",
              "    <tr>\n",
              "      <th>October</th>\n",
              "      <td>11160.0</td>\n",
              "      <td>87.908879</td>\n",
              "      <td>36.281047</td>\n",
              "      <td>0.0</td>\n",
              "      <td>62.0000</td>\n",
              "      <td>85.67</td>\n",
              "      <td>109.6500</td>\n",
              "      <td>300.00</td>\n",
              "    </tr>\n",
              "    <tr>\n",
              "      <th>March</th>\n",
              "      <td>9792.0</td>\n",
              "      <td>80.145305</td>\n",
              "      <td>33.039649</td>\n",
              "      <td>0.0</td>\n",
              "      <td>62.0000</td>\n",
              "      <td>79.20</td>\n",
              "      <td>95.6775</td>\n",
              "      <td>285.00</td>\n",
              "    </tr>\n",
              "    <tr>\n",
              "      <th>December</th>\n",
              "      <td>6780.0</td>\n",
              "      <td>81.076776</td>\n",
              "      <td>42.731774</td>\n",
              "      <td>0.0</td>\n",
              "      <td>58.2750</td>\n",
              "      <td>75.00</td>\n",
              "      <td>96.0000</td>\n",
              "      <td>451.50</td>\n",
              "    </tr>\n",
              "    <tr>\n",
              "      <th>February</th>\n",
              "      <td>8068.0</td>\n",
              "      <td>73.582276</td>\n",
              "      <td>30.092552</td>\n",
              "      <td>0.0</td>\n",
              "      <td>56.0000</td>\n",
              "      <td>75.00</td>\n",
              "      <td>87.3000</td>\n",
              "      <td>284.20</td>\n",
              "    </tr>\n",
              "    <tr>\n",
              "      <th>November</th>\n",
              "      <td>6794.0</td>\n",
              "      <td>73.794962</td>\n",
              "      <td>33.313240</td>\n",
              "      <td>0.0</td>\n",
              "      <td>51.8400</td>\n",
              "      <td>73.00</td>\n",
              "      <td>90.0000</td>\n",
              "      <td>260.00</td>\n",
              "    </tr>\n",
              "    <tr>\n",
              "      <th>January</th>\n",
              "      <td>5929.0</td>\n",
              "      <td>70.361241</td>\n",
              "      <td>28.373005</td>\n",
              "      <td>0.0</td>\n",
              "      <td>51.0000</td>\n",
              "      <td>71.00</td>\n",
              "      <td>85.0000</td>\n",
              "      <td>284.20</td>\n",
              "    </tr>\n",
              "  </tbody>\n",
              "</table>\n",
              "</div>"
            ],
            "text/plain": [
              "                      count        mean        std  ...     50%       75%     max\n",
              "arrival_date_month                                  ...                          \n",
              "August              13877.0  140.111523  61.657384  ...  130.50  180.0000  450.00\n",
              "July                12661.0  126.788013  52.064455  ...  118.10  155.1000  508.00\n",
              "June                10939.0  116.672192  38.773671  ...  115.00  135.0000  333.67\n",
              "May                 11791.0  108.695516  42.875641  ...  108.00  132.6000  510.00\n",
              "September           10508.0  105.049657  43.004095  ...  100.30  130.0000  345.00\n",
              "April               11089.0  100.380790  38.193729  ...   96.30  119.0000  336.00\n",
              "October             11160.0   87.908879  36.281047  ...   85.67  109.6500  300.00\n",
              "March                9792.0   80.145305  33.039649  ...   79.20   95.6775  285.00\n",
              "December             6780.0   81.076776  42.731774  ...   75.00   96.0000  451.50\n",
              "February             8068.0   73.582276  30.092552  ...   75.00   87.3000  284.20\n",
              "November             6794.0   73.794962  33.313240  ...   73.00   90.0000  260.00\n",
              "January              5929.0   70.361241  28.373005  ...   71.00   85.0000  284.20\n",
              "\n",
              "[12 rows x 8 columns]"
            ]
          },
          "metadata": {},
          "execution_count": 49
        }
      ]
    },
    {
      "cell_type": "code",
      "metadata": {
        "id": "hDKOGscmDpLA",
        "colab": {
          "base_uri": "https://localhost:8080/",
          "height": 404
        },
        "outputId": "78770ee8-dcb5-41e2-f2eb-a4fa9750ca53"
      },
      "source": [
        "#let us analyse this trend across the year to understand better\n",
        "fig = plt.figure(figsize=(6,6))\n",
        "sns.barplot(y=d_['arrival_date_month'], x=d_['adr'], hue=d_['arrival_date_year']);\n",
        "plt.title('adr vs arrival month trends across years')\n",
        "plt.show()"
      ],
      "execution_count": null,
      "outputs": [
        {
          "output_type": "display_data",
          "data": {
            "image/png": "[encoded data removed]",
            "text/plain": [
              "<Figure size 432x432 with 1 Axes>"
            ]
          },
          "metadata": {
            "needs_background": "light"
          }
        }
      ]
    },
    {
      "cell_type": "markdown",
      "metadata": {
        "id": "Zdwjo2dSG464"
      },
      "source": [
        "__adr has increased each year across all months__"
      ]
    },
    {
      "cell_type": "code",
      "metadata": {
        "colab": {
          "base_uri": "https://localhost:8080/",
          "height": 404
        },
        "id": "8_IhNQDuFh75",
        "outputId": "f5f93132-4c7a-4e8a-b5ae-72584b0a7add"
      },
      "source": [
        "#analysing adr with respect to reserved room type and analysed room type\n",
        "fig,ax = plt.subplots(nrows=1, ncols=2, sharey=True, figsize=(10,6))\n",
        "sns.barplot(x=d_['adr'], y=d_['reserved_room_type'], estimator=np.median, color='blue', ax=ax[0])\n",
        "sns.barplot(x=d_['adr'], y=d_['assigned_room_type'], estimator=np.median, color='green', ax=ax[1])\n",
        "ax[0].set_title('reserved room type')\n",
        "ax[1].set_title('assigned room type')\n",
        "#plt.title('analysing adr')\n",
        "plt.show()"
      ],
      "execution_count": null,
      "outputs": [
        {
          "output_type": "display_data",
          "data": {
            "image/png": "[encoded data removed]",
            "text/plain": [
              "<Figure size 720x432 with 2 Axes>"
            ]
          },
          "metadata": {
            "needs_background": "light"
          }
        }
      ]
    },
    {
      "cell_type": "code",
      "metadata": {
        "colab": {
          "base_uri": "https://localhost:8080/",
          "height": 247
        },
        "id": "GKsca7bIItMW",
        "outputId": "c279b9b9-a6cd-46d8-abda-3092e49e8b10"
      },
      "source": [
        "#let us understand if the difference between reserved room type and assigned room type affect the adr\n",
        "d_['reserve_assigned'] = (d_['reserved_room_type']==d_['assigned_room_type']).astype(int)\n",
        "d_.groupby(by=['reserve_assigned'])['adr'].describe()"
      ],
      "execution_count": null,
      "outputs": [
        {
          "output_type": "stream",
          "name": "stderr",
          "text": [
            "/usr/local/lib/python3.7/dist-packages/ipykernel_launcher.py:2: SettingWithCopyWarning: \n",
            "A value is trying to be set on a copy of a slice from a DataFrame.\n",
            "Try using .loc[row_indexer,col_indexer] = value instead\n",
            "\n",
            "See the caveats in the documentation: https://pandas.pydata.org/pandas-docs/stable/user_guide/indexing.html#returning-a-view-versus-a-copy\n",
            "  \n"
          ]
        },
        {
          "output_type": "execute_result",
          "data": {
            "text/html": [
              "<div>\n",
              "<style scoped>\n",
              "    .dataframe tbody tr th:only-of-type {\n",
              "        vertical-align: middle;\n",
              "    }\n",
              "\n",
              "    .dataframe tbody tr th {\n",
              "        vertical-align: top;\n",
              "    }\n",
              "\n",
              "    .dataframe thead th {\n",
              "        text-align: right;\n",
              "    }\n",
              "</style>\n",
              "<table border=\"1\" class=\"dataframe\">\n",
              "  <thead>\n",
              "    <tr style=\"text-align: right;\">\n",
              "      <th></th>\n",
              "      <th>count</th>\n",
              "      <th>mean</th>\n",
              "      <th>std</th>\n",
              "      <th>min</th>\n",
              "      <th>25%</th>\n",
              "      <th>50%</th>\n",
              "      <th>75%</th>\n",
              "      <th>max</th>\n",
              "    </tr>\n",
              "    <tr>\n",
              "      <th>reserve_assigned</th>\n",
              "      <th></th>\n",
              "      <th></th>\n",
              "      <th></th>\n",
              "      <th></th>\n",
              "      <th></th>\n",
              "      <th></th>\n",
              "      <th></th>\n",
              "      <th></th>\n",
              "    </tr>\n",
              "  </thead>\n",
              "  <tbody>\n",
              "    <tr>\n",
              "      <th>0</th>\n",
              "      <td>14916.0</td>\n",
              "      <td>83.363412</td>\n",
              "      <td>47.805168</td>\n",
              "      <td>0.0</td>\n",
              "      <td>49.00</td>\n",
              "      <td>75.8</td>\n",
              "      <td>109.8</td>\n",
              "      <td>510.0</td>\n",
              "    </tr>\n",
              "    <tr>\n",
              "      <th>1</th>\n",
              "      <td>104472.0</td>\n",
              "      <td>104.418173</td>\n",
              "      <td>47.624410</td>\n",
              "      <td>0.0</td>\n",
              "      <td>72.25</td>\n",
              "      <td>96.0</td>\n",
              "      <td>127.8</td>\n",
              "      <td>451.5</td>\n",
              "    </tr>\n",
              "  </tbody>\n",
              "</table>\n",
              "</div>"
            ],
            "text/plain": [
              "                     count        mean        std  ...   50%    75%    max\n",
              "reserve_assigned                                   ...                    \n",
              "0                  14916.0   83.363412  47.805168  ...  75.8  109.8  510.0\n",
              "1                 104472.0  104.418173  47.624410  ...  96.0  127.8  451.5\n",
              "\n",
              "[2 rows x 8 columns]"
            ]
          },
          "metadata": {},
          "execution_count": 66
        }
      ]
    },
    {
      "cell_type": "markdown",
      "metadata": {
        "id": "ZxP0tjAxKmZZ"
      },
      "source": [
        "if the reserve and assigned room types are same, it leads to higher adr"
      ]
    },
    {
      "cell_type": "code",
      "metadata": {
        "colab": {
          "base_uri": "https://localhost:8080/",
          "height": 279
        },
        "id": "jsBSQ7KcI1zB",
        "outputId": "c0d9b17e-6baa-475d-d782-f780cc391975"
      },
      "source": [
        "fig = plt.figure()\n",
        "sns.kdeplot(d_['adr'], hue=d_['reserve_assigned']);\n",
        "plt.show()"
      ],
      "execution_count": null,
      "outputs": [
        {
          "output_type": "display_data",
          "data": {
            "image/png": "[encoded data removed]",
            "text/plain": [
              "<Figure size 432x288 with 1 Axes>"
            ]
          },
          "metadata": {
            "needs_background": "light"
          }
        }
      ]
    },
    {
      "cell_type": "code",
      "metadata": {
        "colab": {
          "base_uri": "https://localhost:8080/",
          "height": 388
        },
        "id": "XSNFqqSIXBNS",
        "outputId": "161b8d23-1322-4582-aa73-b85f52e8cf39"
      },
      "source": [
        "#does market segment effect adr\n",
        "fig, ax = plt.subplots(nrows=1, ncols=2, sharey=True, figsize=(10,6))\n",
        "sns.barplot(x=d_['adr'], y=d_['market_segment'], color='green', ax=ax[0])\n",
        "sns.boxplot(x=d_['adr'], y=d_['market_segment'], color='red', ax=ax[1])\n",
        "plt.show()"
      ],
      "execution_count": null,
      "outputs": [
        {
          "output_type": "display_data",
          "data": {
            "image/png": "[encoded data removed]",
            "text/plain": [
              "<Figure size 720x432 with 2 Axes>"
            ]
          },
          "metadata": {
            "needs_background": "light"
          }
        }
      ]
    },
    {
      "cell_type": "code",
      "metadata": {
        "colab": {
          "base_uri": "https://localhost:8080/"
        },
        "id": "YeKeW0xQ-QkJ",
        "outputId": "a15e982a-4c7c-4bc9-fb10-f2c86d754584"
      },
      "source": [
        "#What share of market is constituted by the Aviation, Online TA and Direct?\n",
        "t1 = data.loc[data.market_segment.isin(['Aviation','Online TA','Direct'])]\n",
        "print(t1.shape[0]/data.shape[0] * 100) "
      ],
      "execution_count": null,
      "outputs": [
        {
          "output_type": "stream",
          "name": "stdout",
          "text": [
            "58.06181422229667\n"
          ]
        }
      ]
    },
    {
      "cell_type": "code",
      "metadata": {
        "colab": {
          "base_uri": "https://localhost:8080/"
        },
        "id": "EGPOG9Fo-8xe",
        "outputId": "a8fac045-470b-46b4-f18c-43242d771b18"
      },
      "source": [
        "#what percentage of ADR is constituted by the above three?\n",
        "print(t1['adr'].sum()/data['adr'].sum() * 100)"
      ],
      "execution_count": null,
      "outputs": [
        {
          "output_type": "stream",
          "name": "stdout",
          "text": [
            "66.60823153378341\n"
          ]
        }
      ]
    },
    {
      "cell_type": "code",
      "metadata": {
        "colab": {
          "base_uri": "https://localhost:8080/",
          "height": 388
        },
        "id": "BPVVHAo6YB2e",
        "outputId": "fc1977d6-6017-4e3c-ac19-af35114cfb26"
      },
      "source": [
        "#does customer type effect adr\n",
        "fig, ax = plt.subplots(nrows=1, ncols=2, sharey=True, figsize=(10,6))\n",
        "sns.barplot(x=d_['adr'], y=d_['customer_type'], color='green', ax=ax[0])\n",
        "sns.boxplot(x=d_['adr'], y=d_['customer_type'], color='red', ax=ax[1])\n",
        "plt.show()"
      ],
      "execution_count": null,
      "outputs": [
        {
          "output_type": "display_data",
          "data": {
            "image/png": "[encoded data removed]",
            "text/plain": [
              "<Figure size 720x432 with 2 Axes>"
            ]
          },
          "metadata": {
            "needs_background": "light"
          }
        }
      ]
    },
    {
      "cell_type": "code",
      "metadata": {
        "colab": {
          "base_uri": "https://localhost:8080/"
        },
        "id": "WBlX18ShYN0H",
        "outputId": "975e0333-824a-4d28-8a30-cb9737a39935"
      },
      "source": [
        "#what percentage of bookings are constituted by Transient customers?\n",
        "t1 = data.loc[data.customer_type=='Transient']\n",
        "print(t1.shape[0]/data.shape[0] * 100)"
      ],
      "execution_count": null,
      "outputs": [
        {
          "output_type": "stream",
          "name": "stdout",
          "text": [
            "75.05905017170618\n"
          ]
        }
      ]
    },
    {
      "cell_type": "code",
      "metadata": {
        "colab": {
          "base_uri": "https://localhost:8080/"
        },
        "id": "pSouB-Kwa60H",
        "outputId": "2cfe51e8-0535-479c-fb37-5c82b608bf51"
      },
      "source": [
        "#what percentage of ADR is contributed by the Transient customers?\n",
        "print(t1['adr'].sum() / data['adr'].sum() * 100)"
      ],
      "execution_count": null,
      "outputs": [
        {
          "output_type": "stream",
          "name": "stdout",
          "text": [
            "66.60823153378341\n"
          ]
        }
      ]
    },
    {
      "cell_type": "markdown",
      "metadata": {
        "id": "LTt4L-BaOm00"
      },
      "source": [
        "#### 2. analysing numerical features against adr\n",
        "days_in_waiting_list, booking_changes, total_of_special_request, "
      ]
    },
    {
      "cell_type": "code",
      "metadata": {
        "colab": {
          "base_uri": "https://localhost:8080/",
          "height": 280
        },
        "id": "o4Vitp-5Kx40",
        "outputId": "9b4e3959-bfa3-4c6d-dde0-db3e7cf6d51d"
      },
      "source": [
        "#analysing days_in_waiting_list\n",
        "fig = plt.figure()\n",
        "sns.scatterplot(x=d_['days_in_waiting_list'], y=d_['adr'], hue=d_['is_canceled']);\n",
        "plt.show()"
      ],
      "execution_count": null,
      "outputs": [
        {
          "output_type": "display_data",
          "data": {
            "image/png": "[encoded data removed]",
            "text/plain": [
              "<Figure size 432x288 with 1 Axes>"
            ]
          },
          "metadata": {
            "needs_background": "light"
          }
        }
      ]
    },
    {
      "cell_type": "code",
      "metadata": {
        "colab": {
          "base_uri": "https://localhost:8080/",
          "height": 441
        },
        "id": "JZDry4AqMyU9",
        "outputId": "c4f6aa09-faf9-4492-be53-b5ecb5f7259b"
      },
      "source": [
        "corr = d_.loc[:,numeric_fields].corr()\n",
        "sns.heatmap(corr, cmap=plt.get_cmap('Pastel1'))"
      ],
      "execution_count": null,
      "outputs": [
        {
          "output_type": "execute_result",
          "data": {
            "text/plain": [
              "<matplotlib.axes._subplots.AxesSubplot at 0x7f474dcbb150>"
            ]
          },
          "metadata": {},
          "execution_count": 77
        },
        {
          "output_type": "display_data",
          "data": {
            "image/png": "[encoded data removed]",
            "text/plain": [
              "<Figure size 432x288 with 2 Axes>"
            ]
          },
          "metadata": {
            "needs_background": "light"
          }
        }
      ]
    },
    {
      "cell_type": "code",
      "metadata": {
        "colab": {
          "base_uri": "https://localhost:8080/",
          "height": 388
        },
        "id": "JVmfy1aJPcv_",
        "outputId": "c18aae74-77dc-47d9-f13c-9134e1fe24f6"
      },
      "source": [
        "fig,ax = plt.subplots(nrows=1, ncols=2, figsize=(10,6))\n",
        "sns.barplot(x='children', y='adr', data=d_, estimator=np.median, ax=ax[0])\n",
        "sns.barplot(x='adults', y='adr', data=d_, estimator=np.median, ax=ax[1])\n",
        "plt.show()"
      ],
      "execution_count": null,
      "outputs": [
        {
          "output_type": "display_data",
          "data": {
            "image/png": "[encoded data removed]",
            "text/plain": [
              "<Figure size 720x432 with 2 Axes>"
            ]
          },
          "metadata": {
            "needs_background": "light"
          }
        }
      ]
    },
    {
      "cell_type": "code",
      "metadata": {
        "id": "RIxFCW3aVuoh"
      },
      "source": [
        ""
      ],
      "execution_count": null,
      "outputs": []
    },
    {
      "cell_type": "markdown",
      "metadata": {
        "id": "Ngm-w6shzLK3"
      },
      "source": [
        "### Regression on ADR"
      ]
    },
    {
      "cell_type": "markdown",
      "metadata": {
        "id": "_2mkdk_dzSVU"
      },
      "source": [
        "Let us understand the feature importances by linear regression"
      ]
    },
    {
      "cell_type": "code",
      "metadata": {
        "id": "C55Tzng21RgD"
      },
      "source": [
        "from sklearn.model_selection import train_test_split\n",
        "from sklearn.linear_model import LinearRegression\n",
        "from sklearn.preprocessing import OneHotEncoder"
      ],
      "execution_count": 11,
      "outputs": []
    },
    {
      "cell_type": "code",
      "metadata": {
        "id": "gFduS2IyAKn9"
      },
      "source": [
        "from scipy.sparse import csr_matrix, hstack"
      ],
      "execution_count": 12,
      "outputs": []
    },
    {
      "cell_type": "code",
      "metadata": {
        "colab": {
          "base_uri": "https://localhost:8080/"
        },
        "id": "iXQIHg5L2ncr",
        "outputId": "b4cf61fe-52be-4fdb-c097-8cb256d58a9c"
      },
      "source": [
        "date_fields"
      ],
      "execution_count": 80,
      "outputs": [
        {
          "output_type": "execute_result",
          "data": {
            "text/plain": [
              "['reservation_status_date', 'arrival_date_year', 'arrival_date_month']"
            ]
          },
          "metadata": {},
          "execution_count": 80
        }
      ]
    },
    {
      "cell_type": "code",
      "metadata": {
        "colab": {
          "base_uri": "https://localhost:8080/"
        },
        "id": "f46XRhfazOyH",
        "outputId": "02fe1f20-cfff-4955-ba2f-1e76c119cbee"
      },
      "source": [
        "Y = data['adr']\n",
        "X = data.drop(['adr'], axis=1, inplace=False)\n",
        "X.drop(date_fields, axis=1, inplace=True)\n",
        "X['arrival_date_month'] = data['arrival_date_month']\n",
        "print(X.shape, Y.shape)"
      ],
      "execution_count": 87,
      "outputs": [
        {
          "output_type": "stream",
          "name": "stdout",
          "text": [
            "(119390, 29) (119390,)\n"
          ]
        }
      ]
    },
    {
      "cell_type": "code",
      "metadata": {
        "colab": {
          "base_uri": "https://localhost:8080/"
        },
        "id": "oSqZ7XgM0iyi",
        "outputId": "05c84aef-4071-4d21-c3dc-f7a18d867a01"
      },
      "source": [
        "pd.isna(X).any()"
      ],
      "execution_count": 88,
      "outputs": [
        {
          "output_type": "execute_result",
          "data": {
            "text/plain": [
              "hotel                             False\n",
              "is_canceled                       False\n",
              "lead_time                         False\n",
              "arrival_date_week_number          False\n",
              "arrival_date_day_of_month         False\n",
              "stays_in_weekend_nights           False\n",
              "stays_in_week_nights              False\n",
              "adults                            False\n",
              "children                           True\n",
              "babies                            False\n",
              "meal                              False\n",
              "country                            True\n",
              "market_segment                    False\n",
              "distribution_channel              False\n",
              "is_repeated_guest                 False\n",
              "previous_cancellations            False\n",
              "previous_bookings_not_canceled    False\n",
              "reserved_room_type                False\n",
              "assigned_room_type                False\n",
              "booking_changes                   False\n",
              "deposit_type                      False\n",
              "agent                              True\n",
              "company                            True\n",
              "days_in_waiting_list              False\n",
              "customer_type                     False\n",
              "required_car_parking_spaces       False\n",
              "total_of_special_requests         False\n",
              "reservation_status                False\n",
              "arrival_date_month                False\n",
              "dtype: bool"
            ]
          },
          "metadata": {},
          "execution_count": 88
        }
      ]
    },
    {
      "cell_type": "code",
      "metadata": {
        "id": "KI1I0BaJ1Iq8"
      },
      "source": [
        "cat_fields = categorical_fields\n",
        "cat_fields.append('arrival_date_month')"
      ],
      "execution_count": 91,
      "outputs": []
    },
    {
      "cell_type": "code",
      "metadata": {
        "colab": {
          "base_uri": "https://localhost:8080/"
        },
        "id": "yMY0Spk45kNJ",
        "outputId": "0e11d6b0-4a56-4dae-8af0-916c929f1825"
      },
      "source": [
        "#filling missing values: we know from the data preparation that missing values are left on purpose\n",
        "X['children'] = X['children'].fillna(value=0)\n",
        "X['agent'] = X['agent'].fillna(value=0)\n",
        "X['company'] = X['company'].fillna(value=0)\n",
        "pd.isna(X).any()"
      ],
      "execution_count": 92,
      "outputs": [
        {
          "output_type": "execute_result",
          "data": {
            "text/plain": [
              "hotel                             False\n",
              "is_canceled                       False\n",
              "lead_time                         False\n",
              "arrival_date_week_number          False\n",
              "arrival_date_day_of_month         False\n",
              "stays_in_weekend_nights           False\n",
              "stays_in_week_nights              False\n",
              "adults                            False\n",
              "children                          False\n",
              "babies                            False\n",
              "meal                              False\n",
              "country                            True\n",
              "market_segment                    False\n",
              "distribution_channel              False\n",
              "is_repeated_guest                 False\n",
              "previous_cancellations            False\n",
              "previous_bookings_not_canceled    False\n",
              "reserved_room_type                False\n",
              "assigned_room_type                False\n",
              "booking_changes                   False\n",
              "deposit_type                      False\n",
              "agent                             False\n",
              "company                           False\n",
              "days_in_waiting_list              False\n",
              "customer_type                     False\n",
              "required_car_parking_spaces       False\n",
              "total_of_special_requests         False\n",
              "reservation_status                False\n",
              "arrival_date_month                False\n",
              "dtype: bool"
            ]
          },
          "metadata": {},
          "execution_count": 92
        }
      ]
    },
    {
      "cell_type": "code",
      "metadata": {
        "id": "Y0NlwHUT6fpD"
      },
      "source": [
        "X.fillna(value='NA', inplace=True)"
      ],
      "execution_count": 93,
      "outputs": []
    },
    {
      "cell_type": "code",
      "metadata": {
        "colab": {
          "base_uri": "https://localhost:8080/"
        },
        "id": "5yBwyPmX4hmS",
        "outputId": "b6b281de-8574-4ad6-e786-90327c0a3986"
      },
      "source": [
        "#encoding categorical data\n",
        "ohe = OneHotEncoder()\n",
        "X_cat = ohe.fit_transform(X.loc[:,cat_fields])\n",
        "print(X_cat.shape)"
      ],
      "execution_count": 95,
      "outputs": [
        {
          "output_type": "stream",
          "name": "stdout",
          "text": [
            "(119390, 933)\n"
          ]
        }
      ]
    },
    {
      "cell_type": "code",
      "metadata": {
        "colab": {
          "base_uri": "https://localhost:8080/"
        },
        "id": "gAuPcHVb_4pm",
        "outputId": "b0713a88-970d-453d-e9ba-40cd3e8a3cb0"
      },
      "source": [
        "X.columns"
      ],
      "execution_count": 96,
      "outputs": [
        {
          "output_type": "execute_result",
          "data": {
            "text/plain": [
              "Index(['hotel', 'is_canceled', 'lead_time', 'arrival_date_week_number',\n",
              "       'arrival_date_day_of_month', 'stays_in_weekend_nights',\n",
              "       'stays_in_week_nights', 'adults', 'children', 'babies', 'meal',\n",
              "       'country', 'market_segment', 'distribution_channel',\n",
              "       'is_repeated_guest', 'previous_cancellations',\n",
              "       'previous_bookings_not_canceled', 'reserved_room_type',\n",
              "       'assigned_room_type', 'booking_changes', 'deposit_type', 'agent',\n",
              "       'company', 'days_in_waiting_list', 'customer_type',\n",
              "       'required_car_parking_spaces', 'total_of_special_requests',\n",
              "       'reservation_status', 'arrival_date_month'],\n",
              "      dtype='object')"
            ]
          },
          "metadata": {},
          "execution_count": 96
        }
      ]
    },
    {
      "cell_type": "code",
      "metadata": {
        "colab": {
          "base_uri": "https://localhost:8080/"
        },
        "id": "LlO-sVha9I0s",
        "outputId": "3f6570ca-fbbd-4866-b62a-1b3924279d52"
      },
      "source": [
        "X.drop(cat_fields, axis=1, inplace=True)\n",
        "X_csr = csr_matrix(X)\n",
        "X_ = hstack([X_csr, X_cat])\n",
        "print(X_.shape)"
      ],
      "execution_count": 97,
      "outputs": [
        {
          "output_type": "stream",
          "name": "stdout",
          "text": [
            "(119390, 947)\n"
          ]
        }
      ]
    },
    {
      "cell_type": "code",
      "metadata": {
        "colab": {
          "base_uri": "https://localhost:8080/"
        },
        "id": "oUXiaLGe_d02",
        "outputId": "be9d3192-104f-4725-9737-cc2084d60632"
      },
      "source": [
        "cat_fields"
      ],
      "execution_count": 98,
      "outputs": [
        {
          "output_type": "execute_result",
          "data": {
            "text/plain": [
              "['hotel',\n",
              " 'is_canceled',\n",
              " 'country',\n",
              " 'market_segment',\n",
              " 'distribution_channel',\n",
              " 'is_repeated_guest',\n",
              " 'reserved_room_type',\n",
              " 'assigned_room_type',\n",
              " 'deposit_type',\n",
              " 'agent',\n",
              " 'company',\n",
              " 'customer_type',\n",
              " 'reservation_status',\n",
              " 'meal',\n",
              " 'arrival_date_month']"
            ]
          },
          "metadata": {},
          "execution_count": 98
        }
      ]
    },
    {
      "cell_type": "code",
      "metadata": {
        "colab": {
          "base_uri": "https://localhost:8080/"
        },
        "id": "ShMJoaGK3hUR",
        "outputId": "e847c043-5be7-4077-c1c6-0de98f10a1e5"
      },
      "source": [
        "X_train, X_test, y_train, y_test = train_test_split(X_, Y, test_size=0.2)\n",
        "print(X_train.shape, X_test.shape)"
      ],
      "execution_count": 99,
      "outputs": [
        {
          "output_type": "stream",
          "name": "stdout",
          "text": [
            "(95512, 947) (23878, 947)\n"
          ]
        }
      ]
    },
    {
      "cell_type": "code",
      "metadata": {
        "id": "tWs7TjCh3t7Q"
      },
      "source": [
        "reg = LinearRegression(fit_intercept=True)"
      ],
      "execution_count": 100,
      "outputs": []
    },
    {
      "cell_type": "code",
      "metadata": {
        "colab": {
          "base_uri": "https://localhost:8080/"
        },
        "id": "hjNQXJtw4Z6g",
        "outputId": "b1371fd2-1c80-429a-9af6-2b3c61819ef3"
      },
      "source": [
        "reg.fit(X_train, y_train)"
      ],
      "execution_count": 101,
      "outputs": [
        {
          "output_type": "execute_result",
          "data": {
            "text/plain": [
              "LinearRegression(copy_X=True, fit_intercept=True, n_jobs=None, normalize=False)"
            ]
          },
          "metadata": {},
          "execution_count": 101
        }
      ]
    },
    {
      "cell_type": "code",
      "metadata": {
        "colab": {
          "base_uri": "https://localhost:8080/"
        },
        "id": "qNgoIEE54fLi",
        "outputId": "7df556ff-9979-418a-d020-7111eaeb8c3c"
      },
      "source": [
        "reg.score(X_train, y_train)"
      ],
      "execution_count": 102,
      "outputs": [
        {
          "output_type": "execute_result",
          "data": {
            "text/plain": [
              "0.5684588569275"
            ]
          },
          "metadata": {},
          "execution_count": 102
        }
      ]
    },
    {
      "cell_type": "code",
      "metadata": {
        "colab": {
          "base_uri": "https://localhost:8080/"
        },
        "id": "jWT8qjdvCGQo",
        "outputId": "66d3584e-6543-4de7-b428-ec86ca6fb82a"
      },
      "source": [
        "reg.score(X_test, y_test)"
      ],
      "execution_count": 103,
      "outputs": [
        {
          "output_type": "execute_result",
          "data": {
            "text/plain": [
              "0.6387306357055014"
            ]
          },
          "metadata": {},
          "execution_count": 103
        }
      ]
    },
    {
      "cell_type": "code",
      "metadata": {
        "colab": {
          "base_uri": "https://localhost:8080/"
        },
        "id": "z3R46fpJC54-",
        "outputId": "297e160f-d2dd-4481-f0c9-477045469d8d"
      },
      "source": [
        "feature_names = np.append(X.columns, ohe.get_feature_names())\n",
        "print(len(feature_names))"
      ],
      "execution_count": 104,
      "outputs": [
        {
          "output_type": "stream",
          "name": "stdout",
          "text": [
            "947\n"
          ]
        }
      ]
    },
    {
      "cell_type": "code",
      "metadata": {
        "colab": {
          "base_uri": "https://localhost:8080/"
        },
        "id": "gXfx5ykPNMT0",
        "outputId": "6c9730f8-199d-49de-eb8e-1b46aca3f0df"
      },
      "source": [
        "feature_imp = pd.DataFrame({'feature': feature_names, 'coef':reg.coef_})\n",
        "print(feature_imp.shape)"
      ],
      "execution_count": 105,
      "outputs": [
        {
          "output_type": "stream",
          "name": "stdout",
          "text": [
            "(947, 2)\n"
          ]
        }
      ]
    },
    {
      "cell_type": "code",
      "metadata": {
        "colab": {
          "base_uri": "https://localhost:8080/",
          "height": 519
        },
        "id": "ZLUatVmOFKbH",
        "outputId": "3ee80636-bf73-4f38-f7fd-b7e6abdac34f"
      },
      "source": [
        "feature_imp.sort_values(by=['coef'], ascending=False).head(15)"
      ],
      "execution_count": 106,
      "outputs": [
        {
          "output_type": "execute_result",
          "data": {
            "text/html": [
              "<div>\n",
              "<style scoped>\n",
              "    .dataframe tbody tr th:only-of-type {\n",
              "        vertical-align: middle;\n",
              "    }\n",
              "\n",
              "    .dataframe tbody tr th {\n",
              "        vertical-align: top;\n",
              "    }\n",
              "\n",
              "    .dataframe thead th {\n",
              "        text-align: right;\n",
              "    }\n",
              "</style>\n",
              "<table border=\"1\" class=\"dataframe\">\n",
              "  <thead>\n",
              "    <tr style=\"text-align: right;\">\n",
              "      <th></th>\n",
              "      <th>feature</th>\n",
              "      <th>coef</th>\n",
              "    </tr>\n",
              "  </thead>\n",
              "  <tbody>\n",
              "    <tr>\n",
              "      <th>937</th>\n",
              "      <td>x14_December</td>\n",
              "      <td>230.757406</td>\n",
              "    </tr>\n",
              "    <tr>\n",
              "      <th>944</th>\n",
              "      <td>x14_November</td>\n",
              "      <td>187.115524</td>\n",
              "    </tr>\n",
              "    <tr>\n",
              "      <th>739</th>\n",
              "      <td>x10_279.0</td>\n",
              "      <td>159.407784</td>\n",
              "    </tr>\n",
              "    <tr>\n",
              "      <th>945</th>\n",
              "      <td>x14_October</td>\n",
              "      <td>156.670506</td>\n",
              "    </tr>\n",
              "    <tr>\n",
              "      <th>946</th>\n",
              "      <td>x14_September</td>\n",
              "      <td>131.667599</td>\n",
              "    </tr>\n",
              "    <tr>\n",
              "      <th>936</th>\n",
              "      <td>x14_August</td>\n",
              "      <td>104.149685</td>\n",
              "    </tr>\n",
              "    <tr>\n",
              "      <th>632</th>\n",
              "      <td>x10_102.0</td>\n",
              "      <td>96.807226</td>\n",
              "    </tr>\n",
              "    <tr>\n",
              "      <th>849</th>\n",
              "      <td>x10_422.0</td>\n",
              "      <td>94.235557</td>\n",
              "    </tr>\n",
              "    <tr>\n",
              "      <th>423</th>\n",
              "      <td>x9_254.0</td>\n",
              "      <td>90.658759</td>\n",
              "    </tr>\n",
              "    <tr>\n",
              "      <th>511</th>\n",
              "      <td>x9_404.0</td>\n",
              "      <td>86.147947</td>\n",
              "    </tr>\n",
              "    <tr>\n",
              "      <th>760</th>\n",
              "      <td>x10_311.0</td>\n",
              "      <td>79.299447</td>\n",
              "    </tr>\n",
              "    <tr>\n",
              "      <th>523</th>\n",
              "      <td>x9_426.0</td>\n",
              "      <td>76.785584</td>\n",
              "    </tr>\n",
              "    <tr>\n",
              "      <th>460</th>\n",
              "      <td>x9_307.0</td>\n",
              "      <td>72.065712</td>\n",
              "    </tr>\n",
              "    <tr>\n",
              "      <th>880</th>\n",
              "      <td>x10_466.0</td>\n",
              "      <td>71.834079</td>\n",
              "    </tr>\n",
              "    <tr>\n",
              "      <th>607</th>\n",
              "      <td>x10_65.0</td>\n",
              "      <td>69.629490</td>\n",
              "    </tr>\n",
              "  </tbody>\n",
              "</table>\n",
              "</div>"
            ],
            "text/plain": [
              "           feature        coef\n",
              "937   x14_December  230.757406\n",
              "944   x14_November  187.115524\n",
              "739      x10_279.0  159.407784\n",
              "945    x14_October  156.670506\n",
              "946  x14_September  131.667599\n",
              "936     x14_August  104.149685\n",
              "632      x10_102.0   96.807226\n",
              "849      x10_422.0   94.235557\n",
              "423       x9_254.0   90.658759\n",
              "511       x9_404.0   86.147947\n",
              "760      x10_311.0   79.299447\n",
              "523       x9_426.0   76.785584\n",
              "460       x9_307.0   72.065712\n",
              "880      x10_466.0   71.834079\n",
              "607       x10_65.0   69.629490"
            ]
          },
          "metadata": {},
          "execution_count": 106
        }
      ]
    },
    {
      "cell_type": "code",
      "metadata": {
        "id": "K13H4HyLxEUS"
      },
      "source": [
        "#important_fields = [categorical_fields[int(i.split('_')[0].replace('x',''))] for i in feature_imp['feature'].values]\n",
        "def find_actual_field(field_name):\n",
        "  try:\n",
        "    i = field_name.split('_',1)[0].replace('x','')\n",
        "    field = categorical_fields[int(i)]\n",
        "  except:\n",
        "    field = field_name\n",
        "  return field"
      ],
      "execution_count": 107,
      "outputs": []
    },
    {
      "cell_type": "code",
      "metadata": {
        "id": "6WI3D9-hxJwK"
      },
      "source": [
        "feature_imp['feature_category'] = feature_imp.feature.apply(find_actual_field)"
      ],
      "execution_count": 108,
      "outputs": []
    },
    {
      "cell_type": "code",
      "metadata": {
        "colab": {
          "base_uri": "https://localhost:8080/",
          "height": 519
        },
        "id": "bJYOmTKSy41A",
        "outputId": "ab91fa98-ba68-4abe-f4d9-7c3f33ce906a"
      },
      "source": [
        "feature_imp.sort_values(by=['coef'], ascending=False).head(15)"
      ],
      "execution_count": 109,
      "outputs": [
        {
          "output_type": "execute_result",
          "data": {
            "text/html": [
              "<div>\n",
              "<style scoped>\n",
              "    .dataframe tbody tr th:only-of-type {\n",
              "        vertical-align: middle;\n",
              "    }\n",
              "\n",
              "    .dataframe tbody tr th {\n",
              "        vertical-align: top;\n",
              "    }\n",
              "\n",
              "    .dataframe thead th {\n",
              "        text-align: right;\n",
              "    }\n",
              "</style>\n",
              "<table border=\"1\" class=\"dataframe\">\n",
              "  <thead>\n",
              "    <tr style=\"text-align: right;\">\n",
              "      <th></th>\n",
              "      <th>feature</th>\n",
              "      <th>coef</th>\n",
              "      <th>feature_category</th>\n",
              "    </tr>\n",
              "  </thead>\n",
              "  <tbody>\n",
              "    <tr>\n",
              "      <th>937</th>\n",
              "      <td>x14_December</td>\n",
              "      <td>230.757406</td>\n",
              "      <td>arrival_date_month</td>\n",
              "    </tr>\n",
              "    <tr>\n",
              "      <th>944</th>\n",
              "      <td>x14_November</td>\n",
              "      <td>187.115524</td>\n",
              "      <td>arrival_date_month</td>\n",
              "    </tr>\n",
              "    <tr>\n",
              "      <th>739</th>\n",
              "      <td>x10_279.0</td>\n",
              "      <td>159.407784</td>\n",
              "      <td>company</td>\n",
              "    </tr>\n",
              "    <tr>\n",
              "      <th>945</th>\n",
              "      <td>x14_October</td>\n",
              "      <td>156.670506</td>\n",
              "      <td>arrival_date_month</td>\n",
              "    </tr>\n",
              "    <tr>\n",
              "      <th>946</th>\n",
              "      <td>x14_September</td>\n",
              "      <td>131.667599</td>\n",
              "      <td>arrival_date_month</td>\n",
              "    </tr>\n",
              "    <tr>\n",
              "      <th>936</th>\n",
              "      <td>x14_August</td>\n",
              "      <td>104.149685</td>\n",
              "      <td>arrival_date_month</td>\n",
              "    </tr>\n",
              "    <tr>\n",
              "      <th>632</th>\n",
              "      <td>x10_102.0</td>\n",
              "      <td>96.807226</td>\n",
              "      <td>company</td>\n",
              "    </tr>\n",
              "    <tr>\n",
              "      <th>849</th>\n",
              "      <td>x10_422.0</td>\n",
              "      <td>94.235557</td>\n",
              "      <td>company</td>\n",
              "    </tr>\n",
              "    <tr>\n",
              "      <th>423</th>\n",
              "      <td>x9_254.0</td>\n",
              "      <td>90.658759</td>\n",
              "      <td>agent</td>\n",
              "    </tr>\n",
              "    <tr>\n",
              "      <th>511</th>\n",
              "      <td>x9_404.0</td>\n",
              "      <td>86.147947</td>\n",
              "      <td>agent</td>\n",
              "    </tr>\n",
              "    <tr>\n",
              "      <th>760</th>\n",
              "      <td>x10_311.0</td>\n",
              "      <td>79.299447</td>\n",
              "      <td>company</td>\n",
              "    </tr>\n",
              "    <tr>\n",
              "      <th>523</th>\n",
              "      <td>x9_426.0</td>\n",
              "      <td>76.785584</td>\n",
              "      <td>agent</td>\n",
              "    </tr>\n",
              "    <tr>\n",
              "      <th>460</th>\n",
              "      <td>x9_307.0</td>\n",
              "      <td>72.065712</td>\n",
              "      <td>agent</td>\n",
              "    </tr>\n",
              "    <tr>\n",
              "      <th>880</th>\n",
              "      <td>x10_466.0</td>\n",
              "      <td>71.834079</td>\n",
              "      <td>company</td>\n",
              "    </tr>\n",
              "    <tr>\n",
              "      <th>607</th>\n",
              "      <td>x10_65.0</td>\n",
              "      <td>69.629490</td>\n",
              "      <td>company</td>\n",
              "    </tr>\n",
              "  </tbody>\n",
              "</table>\n",
              "</div>"
            ],
            "text/plain": [
              "           feature        coef    feature_category\n",
              "937   x14_December  230.757406  arrival_date_month\n",
              "944   x14_November  187.115524  arrival_date_month\n",
              "739      x10_279.0  159.407784             company\n",
              "945    x14_October  156.670506  arrival_date_month\n",
              "946  x14_September  131.667599  arrival_date_month\n",
              "936     x14_August  104.149685  arrival_date_month\n",
              "632      x10_102.0   96.807226             company\n",
              "849      x10_422.0   94.235557             company\n",
              "423       x9_254.0   90.658759               agent\n",
              "511       x9_404.0   86.147947               agent\n",
              "760      x10_311.0   79.299447             company\n",
              "523       x9_426.0   76.785584               agent\n",
              "460       x9_307.0   72.065712               agent\n",
              "880      x10_466.0   71.834079             company\n",
              "607       x10_65.0   69.629490             company"
            ]
          },
          "metadata": {},
          "execution_count": 109
        }
      ]
    },
    {
      "cell_type": "code",
      "metadata": {
        "colab": {
          "base_uri": "https://localhost:8080/",
          "height": 388
        },
        "id": "-71AY2kg1VF8",
        "outputId": "966afb80-df15-4be3-bbe5-489d592bbb97"
      },
      "source": [
        "t = feature_imp.groupby(by=['feature_category']).median()\n",
        "fig = plt.figure(figsize=(6,6))\n",
        "sns.barplot(x='coef', y=t.index, data=t, color='blue');\n",
        "plt.show()"
      ],
      "execution_count": 110,
      "outputs": [
        {
          "output_type": "display_data",
          "data": {
            "image/png": "[encoded data removed]",
            "text/plain": [
              "<Figure size 432x432 with 1 Axes>"
            ]
          },
          "metadata": {
            "needs_background": "light"
          }
        }
      ]
    },
    {
      "cell_type": "code",
      "metadata": {
        "colab": {
          "base_uri": "https://localhost:8080/",
          "height": 425
        },
        "id": "Y1BD0B9R0y55",
        "outputId": "8796335b-176a-4de0-97ae-6b2a5ecad12f"
      },
      "source": [
        "feature_imp.loc[feature_imp['feature_category'].isin(['arrival_date_month','market_segment','customer_type'])]"
      ],
      "execution_count": 70,
      "outputs": [
        {
          "output_type": "execute_result",
          "data": {
            "text/html": [
              "<div>\n",
              "<style scoped>\n",
              "    .dataframe tbody tr th:only-of-type {\n",
              "        vertical-align: middle;\n",
              "    }\n",
              "\n",
              "    .dataframe tbody tr th {\n",
              "        vertical-align: top;\n",
              "    }\n",
              "\n",
              "    .dataframe thead th {\n",
              "        text-align: right;\n",
              "    }\n",
              "</style>\n",
              "<table border=\"1\" class=\"dataframe\">\n",
              "  <thead>\n",
              "    <tr style=\"text-align: right;\">\n",
              "      <th></th>\n",
              "      <th>feature</th>\n",
              "      <th>coef</th>\n",
              "      <th>feature_category</th>\n",
              "    </tr>\n",
              "  </thead>\n",
              "  <tbody>\n",
              "    <tr>\n",
              "      <th>196</th>\n",
              "      <td>x3_Aviation</td>\n",
              "      <td>7.188105</td>\n",
              "      <td>market_segment</td>\n",
              "    </tr>\n",
              "    <tr>\n",
              "      <th>197</th>\n",
              "      <td>x3_Complementary</td>\n",
              "      <td>-78.137130</td>\n",
              "      <td>market_segment</td>\n",
              "    </tr>\n",
              "    <tr>\n",
              "      <th>198</th>\n",
              "      <td>x3_Corporate</td>\n",
              "      <td>17.834528</td>\n",
              "      <td>market_segment</td>\n",
              "    </tr>\n",
              "    <tr>\n",
              "      <th>199</th>\n",
              "      <td>x3_Direct</td>\n",
              "      <td>24.954118</td>\n",
              "      <td>market_segment</td>\n",
              "    </tr>\n",
              "    <tr>\n",
              "      <th>200</th>\n",
              "      <td>x3_Groups</td>\n",
              "      <td>9.040604</td>\n",
              "      <td>market_segment</td>\n",
              "    </tr>\n",
              "    <tr>\n",
              "      <th>201</th>\n",
              "      <td>x3_Offline TA/TO</td>\n",
              "      <td>8.703321</td>\n",
              "      <td>market_segment</td>\n",
              "    </tr>\n",
              "    <tr>\n",
              "      <th>202</th>\n",
              "      <td>x3_Online TA</td>\n",
              "      <td>25.439119</td>\n",
              "      <td>market_segment</td>\n",
              "    </tr>\n",
              "    <tr>\n",
              "      <th>203</th>\n",
              "      <td>x3_Undefined</td>\n",
              "      <td>-15.022664</td>\n",
              "      <td>market_segment</td>\n",
              "    </tr>\n",
              "    <tr>\n",
              "      <th>923</th>\n",
              "      <td>x11_Contract</td>\n",
              "      <td>-2.085693</td>\n",
              "      <td>customer_type</td>\n",
              "    </tr>\n",
              "    <tr>\n",
              "      <th>924</th>\n",
              "      <td>x11_Group</td>\n",
              "      <td>-7.456024</td>\n",
              "      <td>customer_type</td>\n",
              "    </tr>\n",
              "    <tr>\n",
              "      <th>925</th>\n",
              "      <td>x11_Transient</td>\n",
              "      <td>7.030544</td>\n",
              "      <td>customer_type</td>\n",
              "    </tr>\n",
              "    <tr>\n",
              "      <th>926</th>\n",
              "      <td>x11_Transient-Party</td>\n",
              "      <td>2.511173</td>\n",
              "      <td>customer_type</td>\n",
              "    </tr>\n",
              "  </tbody>\n",
              "</table>\n",
              "</div>"
            ],
            "text/plain": [
              "                 feature       coef feature_category\n",
              "196          x3_Aviation   7.188105   market_segment\n",
              "197     x3_Complementary -78.137130   market_segment\n",
              "198         x3_Corporate  17.834528   market_segment\n",
              "199            x3_Direct  24.954118   market_segment\n",
              "200            x3_Groups   9.040604   market_segment\n",
              "201     x3_Offline TA/TO   8.703321   market_segment\n",
              "202         x3_Online TA  25.439119   market_segment\n",
              "203         x3_Undefined -15.022664   market_segment\n",
              "923         x11_Contract  -2.085693    customer_type\n",
              "924            x11_Group  -7.456024    customer_type\n",
              "925        x11_Transient   7.030544    customer_type\n",
              "926  x11_Transient-Party   2.511173    customer_type"
            ]
          },
          "metadata": {},
          "execution_count": 70
        }
      ]
    },
    {
      "cell_type": "code",
      "metadata": {
        "id": "V5eYip5h1OIA"
      },
      "source": [
        ""
      ],
      "execution_count": null,
      "outputs": []
    }
  ]
}